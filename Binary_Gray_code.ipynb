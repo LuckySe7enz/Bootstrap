{
  "cells": [
    {
      "cell_type": "code",
      "execution_count": null,
      "id": "9c76038e",
      "metadata": {
        "id": "9c76038e"
      },
      "outputs": [],
      "source": [
        "import pandas as pd\n",
        "import numpy as np\n",
        "import time\n",
        "import os\n",
        "import matplotlib.pyplot as plt\n",
        "from scipy.stats import pearsonr, spearmanr, bootstrap\n",
        "import statsmodels.api as sm\n",
        "import itertools\n",
        "import random\n",
        "from sympy.combinatorics import GrayCode\n",
        "from multiprocessing import Process, Pool\n",
        "from joblib import Parallel, delayed\n",
        "import tqdm"
      ]
    },
    {
      "cell_type": "code",
      "execution_count": null,
      "id": "96d896f4",
      "metadata": {
        "id": "96d896f4"
      },
      "outputs": [],
      "source": [
        "random.seed(42)"
      ]
    },
    {
      "cell_type": "code",
      "execution_count": null,
      "id": "61f8298b",
      "metadata": {
        "scrolled": true,
        "colab": {
          "base_uri": "https://localhost:8080/"
        },
        "id": "61f8298b",
        "outputId": "878099d7-49df-43dd-88a1-4632497be883"
      },
      "outputs": [
        {
          "output_type": "stream",
          "name": "stdout",
          "text": [
            "Looking in indexes: https://pypi.org/simple, https://us-python.pkg.dev/colab-wheels/public/simple/\n",
            "Requirement already satisfied: bootstrap-stat in /usr/local/lib/python3.9/dist-packages (0.2.4.2)\n",
            "Requirement already satisfied: pandas>=0.25.1 in /usr/local/lib/python3.9/dist-packages (from bootstrap-stat) (1.4.4)\n",
            "Requirement already satisfied: pathos>=0.2.5 in /usr/local/lib/python3.9/dist-packages (from bootstrap-stat) (0.3.0)\n",
            "Requirement already satisfied: numpy>=1.17 in /usr/local/lib/python3.9/dist-packages (from bootstrap-stat) (1.22.4)\n",
            "Requirement already satisfied: scipy>=1.3 in /usr/local/lib/python3.9/dist-packages (from bootstrap-stat) (1.10.1)\n",
            "Requirement already satisfied: pytz>=2020.1 in /usr/local/lib/python3.9/dist-packages (from pandas>=0.25.1->bootstrap-stat) (2022.7.1)\n",
            "Requirement already satisfied: python-dateutil>=2.8.1 in /usr/local/lib/python3.9/dist-packages (from pandas>=0.25.1->bootstrap-stat) (2.8.2)\n",
            "Requirement already satisfied: dill>=0.3.6 in /usr/local/lib/python3.9/dist-packages (from pathos>=0.2.5->bootstrap-stat) (0.3.6)\n",
            "Requirement already satisfied: pox>=0.3.2 in /usr/local/lib/python3.9/dist-packages (from pathos>=0.2.5->bootstrap-stat) (0.3.2)\n",
            "Requirement already satisfied: ppft>=1.7.6.6 in /usr/local/lib/python3.9/dist-packages (from pathos>=0.2.5->bootstrap-stat) (1.7.6.6)\n",
            "Requirement already satisfied: multiprocess>=0.70.14 in /usr/local/lib/python3.9/dist-packages (from pathos>=0.2.5->bootstrap-stat) (0.70.14)\n",
            "Requirement already satisfied: six>=1.5 in /usr/local/lib/python3.9/dist-packages (from python-dateutil>=2.8.1->pandas>=0.25.1->bootstrap-stat) (1.15.0)\n"
          ]
        }
      ],
      "source": [
        "pip install bootstrap-stat"
      ]
    },
    {
      "cell_type": "code",
      "execution_count": null,
      "id": "5e9dbb8d",
      "metadata": {
        "id": "5e9dbb8d"
      },
      "outputs": [],
      "source": [
        "#pip install --upgrade scipy"
      ]
    },
    {
      "cell_type": "code",
      "execution_count": null,
      "id": "c898e7d1",
      "metadata": {
        "id": "c898e7d1"
      },
      "outputs": [],
      "source": [
        "from bootstrap_stat import bootstrap_stat as bp\n",
        "from bootstrap_stat import datasets as d"
      ]
    },
    {
      "cell_type": "code",
      "execution_count": null,
      "id": "70a37151",
      "metadata": {
        "colab": {
          "base_uri": "https://localhost:8080/",
          "height": 519
        },
        "id": "70a37151",
        "outputId": "62b65c7a-87b9-4ca1-ca6b-6b2af1b53677"
      },
      "outputs": [
        {
          "output_type": "execute_result",
          "data": {
            "text/plain": [
              "    LSAT   GPA\n",
              "0    576  3.39\n",
              "1    635  3.30\n",
              "2    558  2.81\n",
              "3    578  3.03\n",
              "4    666  3.44\n",
              "5    580  3.07\n",
              "6    555  3.00\n",
              "7    661  3.43\n",
              "8    651  3.36\n",
              "9    605  3.13\n",
              "10   653  3.12\n",
              "11   575  2.74\n",
              "12   545  2.76\n",
              "13   572  2.88\n",
              "14   594  2.96"
            ],
            "text/html": [
              "\n",
              "  <div id=\"df-76857cf0-125a-41b9-af8a-888db5597cda\">\n",
              "    <div class=\"colab-df-container\">\n",
              "      <div>\n",
              "<style scoped>\n",
              "    .dataframe tbody tr th:only-of-type {\n",
              "        vertical-align: middle;\n",
              "    }\n",
              "\n",
              "    .dataframe tbody tr th {\n",
              "        vertical-align: top;\n",
              "    }\n",
              "\n",
              "    .dataframe thead th {\n",
              "        text-align: right;\n",
              "    }\n",
              "</style>\n",
              "<table border=\"1\" class=\"dataframe\">\n",
              "  <thead>\n",
              "    <tr style=\"text-align: right;\">\n",
              "      <th></th>\n",
              "      <th>LSAT</th>\n",
              "      <th>GPA</th>\n",
              "    </tr>\n",
              "  </thead>\n",
              "  <tbody>\n",
              "    <tr>\n",
              "      <th>0</th>\n",
              "      <td>576</td>\n",
              "      <td>3.39</td>\n",
              "    </tr>\n",
              "    <tr>\n",
              "      <th>1</th>\n",
              "      <td>635</td>\n",
              "      <td>3.30</td>\n",
              "    </tr>\n",
              "    <tr>\n",
              "      <th>2</th>\n",
              "      <td>558</td>\n",
              "      <td>2.81</td>\n",
              "    </tr>\n",
              "    <tr>\n",
              "      <th>3</th>\n",
              "      <td>578</td>\n",
              "      <td>3.03</td>\n",
              "    </tr>\n",
              "    <tr>\n",
              "      <th>4</th>\n",
              "      <td>666</td>\n",
              "      <td>3.44</td>\n",
              "    </tr>\n",
              "    <tr>\n",
              "      <th>5</th>\n",
              "      <td>580</td>\n",
              "      <td>3.07</td>\n",
              "    </tr>\n",
              "    <tr>\n",
              "      <th>6</th>\n",
              "      <td>555</td>\n",
              "      <td>3.00</td>\n",
              "    </tr>\n",
              "    <tr>\n",
              "      <th>7</th>\n",
              "      <td>661</td>\n",
              "      <td>3.43</td>\n",
              "    </tr>\n",
              "    <tr>\n",
              "      <th>8</th>\n",
              "      <td>651</td>\n",
              "      <td>3.36</td>\n",
              "    </tr>\n",
              "    <tr>\n",
              "      <th>9</th>\n",
              "      <td>605</td>\n",
              "      <td>3.13</td>\n",
              "    </tr>\n",
              "    <tr>\n",
              "      <th>10</th>\n",
              "      <td>653</td>\n",
              "      <td>3.12</td>\n",
              "    </tr>\n",
              "    <tr>\n",
              "      <th>11</th>\n",
              "      <td>575</td>\n",
              "      <td>2.74</td>\n",
              "    </tr>\n",
              "    <tr>\n",
              "      <th>12</th>\n",
              "      <td>545</td>\n",
              "      <td>2.76</td>\n",
              "    </tr>\n",
              "    <tr>\n",
              "      <th>13</th>\n",
              "      <td>572</td>\n",
              "      <td>2.88</td>\n",
              "    </tr>\n",
              "    <tr>\n",
              "      <th>14</th>\n",
              "      <td>594</td>\n",
              "      <td>2.96</td>\n",
              "    </tr>\n",
              "  </tbody>\n",
              "</table>\n",
              "</div>\n",
              "      <button class=\"colab-df-convert\" onclick=\"convertToInteractive('df-76857cf0-125a-41b9-af8a-888db5597cda')\"\n",
              "              title=\"Convert this dataframe to an interactive table.\"\n",
              "              style=\"display:none;\">\n",
              "        \n",
              "  <svg xmlns=\"http://www.w3.org/2000/svg\" height=\"24px\"viewBox=\"0 0 24 24\"\n",
              "       width=\"24px\">\n",
              "    <path d=\"M0 0h24v24H0V0z\" fill=\"none\"/>\n",
              "    <path d=\"M18.56 5.44l.94 2.06.94-2.06 2.06-.94-2.06-.94-.94-2.06-.94 2.06-2.06.94zm-11 1L8.5 8.5l.94-2.06 2.06-.94-2.06-.94L8.5 2.5l-.94 2.06-2.06.94zm10 10l.94 2.06.94-2.06 2.06-.94-2.06-.94-.94-2.06-.94 2.06-2.06.94z\"/><path d=\"M17.41 7.96l-1.37-1.37c-.4-.4-.92-.59-1.43-.59-.52 0-1.04.2-1.43.59L10.3 9.45l-7.72 7.72c-.78.78-.78 2.05 0 2.83L4 21.41c.39.39.9.59 1.41.59.51 0 1.02-.2 1.41-.59l7.78-7.78 2.81-2.81c.8-.78.8-2.07 0-2.86zM5.41 20L4 18.59l7.72-7.72 1.47 1.35L5.41 20z\"/>\n",
              "  </svg>\n",
              "      </button>\n",
              "      \n",
              "  <style>\n",
              "    .colab-df-container {\n",
              "      display:flex;\n",
              "      flex-wrap:wrap;\n",
              "      gap: 12px;\n",
              "    }\n",
              "\n",
              "    .colab-df-convert {\n",
              "      background-color: #E8F0FE;\n",
              "      border: none;\n",
              "      border-radius: 50%;\n",
              "      cursor: pointer;\n",
              "      display: none;\n",
              "      fill: #1967D2;\n",
              "      height: 32px;\n",
              "      padding: 0 0 0 0;\n",
              "      width: 32px;\n",
              "    }\n",
              "\n",
              "    .colab-df-convert:hover {\n",
              "      background-color: #E2EBFA;\n",
              "      box-shadow: 0px 1px 2px rgba(60, 64, 67, 0.3), 0px 1px 3px 1px rgba(60, 64, 67, 0.15);\n",
              "      fill: #174EA6;\n",
              "    }\n",
              "\n",
              "    [theme=dark] .colab-df-convert {\n",
              "      background-color: #3B4455;\n",
              "      fill: #D2E3FC;\n",
              "    }\n",
              "\n",
              "    [theme=dark] .colab-df-convert:hover {\n",
              "      background-color: #434B5C;\n",
              "      box-shadow: 0px 1px 3px 1px rgba(0, 0, 0, 0.15);\n",
              "      filter: drop-shadow(0px 1px 2px rgba(0, 0, 0, 0.3));\n",
              "      fill: #FFFFFF;\n",
              "    }\n",
              "  </style>\n",
              "\n",
              "      <script>\n",
              "        const buttonEl =\n",
              "          document.querySelector('#df-76857cf0-125a-41b9-af8a-888db5597cda button.colab-df-convert');\n",
              "        buttonEl.style.display =\n",
              "          google.colab.kernel.accessAllowed ? 'block' : 'none';\n",
              "\n",
              "        async function convertToInteractive(key) {\n",
              "          const element = document.querySelector('#df-76857cf0-125a-41b9-af8a-888db5597cda');\n",
              "          const dataTable =\n",
              "            await google.colab.kernel.invokeFunction('convertToInteractive',\n",
              "                                                     [key], {});\n",
              "          if (!dataTable) return;\n",
              "\n",
              "          const docLinkHtml = 'Like what you see? Visit the ' +\n",
              "            '<a target=\"_blank\" href=https://colab.research.google.com/notebooks/data_table.ipynb>data table notebook</a>'\n",
              "            + ' to learn more about interactive tables.';\n",
              "          element.innerHTML = '';\n",
              "          dataTable['output_type'] = 'display_data';\n",
              "          await google.colab.output.renderOutput(dataTable, element);\n",
              "          const docLink = document.createElement('div');\n",
              "          docLink.innerHTML = docLinkHtml;\n",
              "          element.appendChild(docLink);\n",
              "        }\n",
              "      </script>\n",
              "    </div>\n",
              "  </div>\n",
              "  "
            ]
          },
          "metadata": {},
          "execution_count": 23
        }
      ],
      "source": [
        "df = d.law_data()\n",
        "df"
      ]
    },
    {
      "cell_type": "code",
      "execution_count": null,
      "id": "2afd0b1a",
      "metadata": {
        "colab": {
          "base_uri": "https://localhost:8080/",
          "height": 282
        },
        "id": "2afd0b1a",
        "outputId": "31487daa-2061-43ea-b9ac-c6e83eaa883c"
      },
      "outputs": [
        {
          "output_type": "execute_result",
          "data": {
            "text/plain": [
              "<matplotlib.collections.PathCollection at 0x7f461792d3a0>"
            ]
          },
          "metadata": {},
          "execution_count": 8
        },
        {
          "output_type": "display_data",
          "data": {
            "text/plain": [
              "<Figure size 432x288 with 1 Axes>"
            ],
            "image/png": "[encoded data removed]"
          },
          "metadata": {
            "needs_background": "light"
          }
        }
      ],
      "source": [
        "plt.scatter(df['LSAT'], df['GPA'])"
      ]
    },
    {
      "cell_type": "markdown",
      "source": [
        "#Gray Code"
      ],
      "metadata": {
        "id": "PUBfOShz9a2z"
      },
      "id": "PUBfOShz9a2z"
    },
    {
      "cell_type": "markdown",
      "source": [
        "#Remove outliers (1,11), check correlation "
      ],
      "metadata": {
        "id": "ws_9kN6MhuuU"
      },
      "id": "ws_9kN6MhuuU"
    },
    {
      "cell_type": "code",
      "execution_count": null,
      "id": "acdcddd0",
      "metadata": {
        "colab": {
          "base_uri": "https://localhost:8080/",
          "height": 314
        },
        "id": "acdcddd0",
        "outputId": "a9a899d5-1d0c-459f-cd12-11f697088ffb"
      },
      "outputs": [
        {
          "output_type": "stream",
          "name": "stdout",
          "text": [
            "0.776374491289407\n",
            "0.931554171573079\n"
          ]
        },
        {
          "output_type": "display_data",
          "data": {
            "text/plain": [
              "<Figure size 432x288 with 1 Axes>"
            ],
            "image/png": "[encoded data removed]"
          },
          "metadata": {}
        }
      ],
      "source": [
        "import pandas as pd\n",
        "import numpy as np\n",
        "import matplotlib.pyplot as plt\n",
        "import seaborn as sns\n",
        "\n",
        "law2 = pd.DataFrame({'Observation': np.arange(1, len(df)+1), 'LSAT': df['LSAT'], 'GPA': df['GPA']})\n",
        "\n",
        "# Exclude observations 1 and 11 from law2\n",
        "law2 = law2.loc[(law2['Observation'] != 1) & (law2['Observation'] != 11)]\n",
        "\n",
        "# Plot the data points with Observation label\n",
        "sns.set_style('darkgrid')\n",
        "sns.set_palette('bright')\n",
        "g = sns.scatterplot(data=law2, x='LSAT', y='GPA', hue='Observation')\n",
        "for index, row in law2.iterrows():\n",
        "    g.text(row['LSAT'], row['GPA'], str(row['Observation']), color='black', ha='right', va='bottom', fontsize=10)\n",
        "\n",
        "# Remove the Observation column from law2\n",
        "law2 = law2.drop('Observation', axis=1)\n",
        "\n",
        "# Calculate Pearson correlation coefficients for the original and modified data\n",
        "print(np.corrcoef(df['LSAT'], df['GPA'])[0, 1])\n",
        "print(np.corrcoef(law2['LSAT'], law2['GPA'])[0, 1])"
      ]
    },
    {
      "cell_type": "code",
      "source": [
        "law2"
      ],
      "metadata": {
        "colab": {
          "base_uri": "https://localhost:8080/",
          "height": 457
        },
        "id": "cjGtbK_zHqLG",
        "outputId": "801c9243-15c4-46d1-a87a-4b01676b67e6"
      },
      "id": "cjGtbK_zHqLG",
      "execution_count": null,
      "outputs": [
        {
          "output_type": "execute_result",
          "data": {
            "text/plain": [
              "    LSAT   GPA\n",
              "1    635  3.30\n",
              "2    558  2.81\n",
              "3    578  3.03\n",
              "4    666  3.44\n",
              "5    580  3.07\n",
              "6    555  3.00\n",
              "7    661  3.43\n",
              "8    651  3.36\n",
              "9    605  3.13\n",
              "11   575  2.74\n",
              "12   545  2.76\n",
              "13   572  2.88\n",
              "14   594  2.96"
            ],
            "text/html": [
              "\n",
              "  <div id=\"df-925b15ac-be45-45cc-8ddd-6e305dec7796\">\n",
              "    <div class=\"colab-df-container\">\n",
              "      <div>\n",
              "<style scoped>\n",
              "    .dataframe tbody tr th:only-of-type {\n",
              "        vertical-align: middle;\n",
              "    }\n",
              "\n",
              "    .dataframe tbody tr th {\n",
              "        vertical-align: top;\n",
              "    }\n",
              "\n",
              "    .dataframe thead th {\n",
              "        text-align: right;\n",
              "    }\n",
              "</style>\n",
              "<table border=\"1\" class=\"dataframe\">\n",
              "  <thead>\n",
              "    <tr style=\"text-align: right;\">\n",
              "      <th></th>\n",
              "      <th>LSAT</th>\n",
              "      <th>GPA</th>\n",
              "    </tr>\n",
              "  </thead>\n",
              "  <tbody>\n",
              "    <tr>\n",
              "      <th>1</th>\n",
              "      <td>635</td>\n",
              "      <td>3.30</td>\n",
              "    </tr>\n",
              "    <tr>\n",
              "      <th>2</th>\n",
              "      <td>558</td>\n",
              "      <td>2.81</td>\n",
              "    </tr>\n",
              "    <tr>\n",
              "      <th>3</th>\n",
              "      <td>578</td>\n",
              "      <td>3.03</td>\n",
              "    </tr>\n",
              "    <tr>\n",
              "      <th>4</th>\n",
              "      <td>666</td>\n",
              "      <td>3.44</td>\n",
              "    </tr>\n",
              "    <tr>\n",
              "      <th>5</th>\n",
              "      <td>580</td>\n",
              "      <td>3.07</td>\n",
              "    </tr>\n",
              "    <tr>\n",
              "      <th>6</th>\n",
              "      <td>555</td>\n",
              "      <td>3.00</td>\n",
              "    </tr>\n",
              "    <tr>\n",
              "      <th>7</th>\n",
              "      <td>661</td>\n",
              "      <td>3.43</td>\n",
              "    </tr>\n",
              "    <tr>\n",
              "      <th>8</th>\n",
              "      <td>651</td>\n",
              "      <td>3.36</td>\n",
              "    </tr>\n",
              "    <tr>\n",
              "      <th>9</th>\n",
              "      <td>605</td>\n",
              "      <td>3.13</td>\n",
              "    </tr>\n",
              "    <tr>\n",
              "      <th>11</th>\n",
              "      <td>575</td>\n",
              "      <td>2.74</td>\n",
              "    </tr>\n",
              "    <tr>\n",
              "      <th>12</th>\n",
              "      <td>545</td>\n",
              "      <td>2.76</td>\n",
              "    </tr>\n",
              "    <tr>\n",
              "      <th>13</th>\n",
              "      <td>572</td>\n",
              "      <td>2.88</td>\n",
              "    </tr>\n",
              "    <tr>\n",
              "      <th>14</th>\n",
              "      <td>594</td>\n",
              "      <td>2.96</td>\n",
              "    </tr>\n",
              "  </tbody>\n",
              "</table>\n",
              "</div>\n",
              "      <button class=\"colab-df-convert\" onclick=\"convertToInteractive('df-925b15ac-be45-45cc-8ddd-6e305dec7796')\"\n",
              "              title=\"Convert this dataframe to an interactive table.\"\n",
              "              style=\"display:none;\">\n",
              "        \n",
              "  <svg xmlns=\"http://www.w3.org/2000/svg\" height=\"24px\"viewBox=\"0 0 24 24\"\n",
              "       width=\"24px\">\n",
              "    <path d=\"M0 0h24v24H0V0z\" fill=\"none\"/>\n",
              "    <path d=\"M18.56 5.44l.94 2.06.94-2.06 2.06-.94-2.06-.94-.94-2.06-.94 2.06-2.06.94zm-11 1L8.5 8.5l.94-2.06 2.06-.94-2.06-.94L8.5 2.5l-.94 2.06-2.06.94zm10 10l.94 2.06.94-2.06 2.06-.94-2.06-.94-.94-2.06-.94 2.06-2.06.94z\"/><path d=\"M17.41 7.96l-1.37-1.37c-.4-.4-.92-.59-1.43-.59-.52 0-1.04.2-1.43.59L10.3 9.45l-7.72 7.72c-.78.78-.78 2.05 0 2.83L4 21.41c.39.39.9.59 1.41.59.51 0 1.02-.2 1.41-.59l7.78-7.78 2.81-2.81c.8-.78.8-2.07 0-2.86zM5.41 20L4 18.59l7.72-7.72 1.47 1.35L5.41 20z\"/>\n",
              "  </svg>\n",
              "      </button>\n",
              "      \n",
              "  <style>\n",
              "    .colab-df-container {\n",
              "      display:flex;\n",
              "      flex-wrap:wrap;\n",
              "      gap: 12px;\n",
              "    }\n",
              "\n",
              "    .colab-df-convert {\n",
              "      background-color: #E8F0FE;\n",
              "      border: none;\n",
              "      border-radius: 50%;\n",
              "      cursor: pointer;\n",
              "      display: none;\n",
              "      fill: #1967D2;\n",
              "      height: 32px;\n",
              "      padding: 0 0 0 0;\n",
              "      width: 32px;\n",
              "    }\n",
              "\n",
              "    .colab-df-convert:hover {\n",
              "      background-color: #E2EBFA;\n",
              "      box-shadow: 0px 1px 2px rgba(60, 64, 67, 0.3), 0px 1px 3px 1px rgba(60, 64, 67, 0.15);\n",
              "      fill: #174EA6;\n",
              "    }\n",
              "\n",
              "    [theme=dark] .colab-df-convert {\n",
              "      background-color: #3B4455;\n",
              "      fill: #D2E3FC;\n",
              "    }\n",
              "\n",
              "    [theme=dark] .colab-df-convert:hover {\n",
              "      background-color: #434B5C;\n",
              "      box-shadow: 0px 1px 3px 1px rgba(0, 0, 0, 0.15);\n",
              "      filter: drop-shadow(0px 1px 2px rgba(0, 0, 0, 0.3));\n",
              "      fill: #FFFFFF;\n",
              "    }\n",
              "  </style>\n",
              "\n",
              "      <script>\n",
              "        const buttonEl =\n",
              "          document.querySelector('#df-925b15ac-be45-45cc-8ddd-6e305dec7796 button.colab-df-convert');\n",
              "        buttonEl.style.display =\n",
              "          google.colab.kernel.accessAllowed ? 'block' : 'none';\n",
              "\n",
              "        async function convertToInteractive(key) {\n",
              "          const element = document.querySelector('#df-925b15ac-be45-45cc-8ddd-6e305dec7796');\n",
              "          const dataTable =\n",
              "            await google.colab.kernel.invokeFunction('convertToInteractive',\n",
              "                                                     [key], {});\n",
              "          if (!dataTable) return;\n",
              "\n",
              "          const docLinkHtml = 'Like what you see? Visit the ' +\n",
              "            '<a target=\"_blank\" href=https://colab.research.google.com/notebooks/data_table.ipynb>data table notebook</a>'\n",
              "            + ' to learn more about interactive tables.';\n",
              "          element.innerHTML = '';\n",
              "          dataTable['output_type'] = 'display_data';\n",
              "          await google.colab.output.renderOutput(dataTable, element);\n",
              "          const docLink = document.createElement('div');\n",
              "          docLink.innerHTML = docLinkHtml;\n",
              "          element.appendChild(docLink);\n",
              "        }\n",
              "      </script>\n",
              "    </div>\n",
              "  </div>\n",
              "  "
            ]
          },
          "metadata": {},
          "execution_count": 31
        }
      ]
    },
    {
      "cell_type": "code",
      "execution_count": null,
      "id": "7c2b3d3b",
      "metadata": {
        "colab": {
          "base_uri": "https://localhost:8080/"
        },
        "id": "7c2b3d3b",
        "outputId": "b08abe76-f1dd-4223-b095-e691d2921201"
      },
      "outputs": [
        {
          "output_type": "stream",
          "name": "stdout",
          "text": [
            "11.158362276999998\n"
          ]
        }
      ],
      "source": [
        "import numpy as np\n",
        "import time\n",
        "\n",
        "# Generating gray codes\n",
        "ptm = time.process_time()\n",
        "n = len(law2['LSAT'])\n",
        "i = 1\n",
        "total = np.math.comb(2*n - 1, n - 1)\n",
        "gray_codes = np.zeros((total, n))\n",
        "\n",
        "r = np.zeros(n)\n",
        "r[0] = n\n",
        "t = n\n",
        "h = 0\n",
        "gray_codes[i-1,:] = r\n",
        "i += 1\n",
        "\n",
        "while r[n-1] != n:\n",
        "    if t != 1:\n",
        "        h = 0\n",
        "    h += 1\n",
        "    t = r[h-1]\n",
        "    r[h-1] = 0\n",
        "    r[0] = t - 1\n",
        "    r[h] += 1\n",
        "    gray_codes[i-1,:] = r\n",
        "    i += 1\n",
        "    \n",
        "print(time.process_time() - ptm)"
      ]
    },
    {
      "cell_type": "markdown",
      "source": [
        "#Gray code vector representation"
      ],
      "metadata": {
        "id": "hMdKM_NrhkCC"
      },
      "id": "hMdKM_NrhkCC"
    },
    {
      "cell_type": "code",
      "source": [
        "import time\n",
        "from scipy.special import binom\n",
        "n = law2.shape[0]\n",
        "total = int(binom(2*n - 1, n - 1))\n",
        "gray_codes = np.zeros((total, n))\n",
        "\n",
        "r = np.zeros(n)\n",
        "r[0] = n\n",
        "t = n\n",
        "h = 0\n",
        "gray_codes[0, :] = r\n",
        "\n",
        "i = 1\n",
        "while r[n - 1] != n:\n",
        "    if t != 1:\n",
        "        h = 0\n",
        "    h += 1\n",
        "    t = r[h - 1]\n",
        "    r[h - 1] = 0\n",
        "    r[0] = t - 1\n",
        "    r[h] += 1\n",
        "    gray_codes[i, :] = r\n",
        "    i += 1\n",
        "\n",
        "# Complete Enumerations Simulation\n",
        "enumData = np.zeros((total, 2))\n",
        "start_time = time.time()\n",
        "for i in range(total):\n",
        "    index = gray_codes[i, :].astype(int)\n",
        "    law_list = []\n",
        "    for j in range(n):\n",
        "        law_list.append(np.tile(law2.iloc[j, :], (index[j], 1)))\n",
        "    newLaw = np.vstack(law_list)\n",
        "    enumData[i, 0] = np.corrcoef(newLaw[:, 0], newLaw[:, 1])[0, 1]\n",
        "    enumData[i, 1] = np.random.multinomial(index.sum(), np.ones(n) / n, size=1)[0][0]\n",
        "    \n",
        "    # Print statistical information every 5 minutes\n",
        "    if time.time() - start_time > 300:\n",
        "        start_time = time.time()\n",
        "        df = pd.DataFrame(data=enumData[:i+1, :], columns=[\"cor\", \"weight\"])\n",
        "        print(\"Iteration:\", i+1)\n",
        "        print(\"Mean correlation:\", np.mean(df[\"cor\"]))\n",
        "        print(\"Standard deviation of correlation:\", np.std(df[\"cor\"]))\n",
        "        print(\"Mean weight:\", np.mean(df[\"weight\"]))\n",
        "        print(\"Standard deviation of weight:\", np.std(df[\"weight\"]))\n",
        "        print(\"=\" * 30)\n",
        "    \n",
        "    # Output histogram every 10 minutes\n",
        "    if time.time() - start_time > 600:\n",
        "        start_time = time.time()\n",
        "        df = pd.DataFrame(data=enumData[:i+1, :], columns=[\"cor\", \"weight\"])\n",
        "        sns.histplot(data=df, x=\"cor\", binwidth=0.013, kde=True)\n",
        "        plt.axvline(x=np.corrcoef(law2[\"LSAT\"], law2[\"GPA\"])[0, 1], color=\"red\")\n",
        "        plt.xlabel(\"Correlation\")\n",
        "        plt.ylabel(\"Count\")\n",
        "        plt.title(\"Complete Enumerations Distribution\")\n",
        "        plt.show()\n",
        "\n",
        "# Final histogram\n",
        "df = pd.DataFrame(data=enumData, columns=[\"cor\", \"weight\"])\n",
        "sns.histplot(data=df, x=\"cor\", binwidth=0.013, kde=True)\n",
        "plt.axvline(x=np.corrcoef(law2[\"LSAT\"], law2[\"GPA\"])[0, 1], color=\"red\")\n",
        "plt.xlabel(\"Correlation\")\n",
        "plt.ylabel(\"Count\")\n",
        "plt.title(\"Complete Enumerations Distribution\")\n",
        "plt.show()"
      ],
      "metadata": {
        "id": "y8KXfia-MDn1",
        "colab": {
          "base_uri": "https://localhost:8080/",
          "height": 1000
        },
        "outputId": "3263b61f-9418-40c8-e1f6-b9722201c885"
      },
      "id": "y8KXfia-MDn1",
      "execution_count": null,
      "outputs": [
        {
          "output_type": "stream",
          "name": "stderr",
          "text": [
            "/usr/local/lib/python3.9/dist-packages/numpy/lib/function_base.py:2829: RuntimeWarning: invalid value encountered in true_divide\n",
            "  c /= stddev[:, None]\n",
            "/usr/local/lib/python3.9/dist-packages/numpy/lib/function_base.py:2830: RuntimeWarning: invalid value encountered in true_divide\n",
            "  c /= stddev[None, :]\n"
          ]
        },
        {
          "output_type": "stream",
          "name": "stdout",
          "text": [
            "Iteration: 187333\n",
            "Mean correlation: 0.9743515987561168\n",
            "Standard deviation of correlation: 0.03646499843938909\n",
            "Mean weight: 0.9973523084560648\n",
            "Standard deviation of weight: 0.9596957751671101\n",
            "==============================\n"
          ]
        },
        {
          "output_type": "stream",
          "name": "stderr",
          "text": [
            "/usr/local/lib/python3.9/dist-packages/numpy/lib/function_base.py:2829: RuntimeWarning: invalid value encountered in true_divide\n",
            "  c /= stddev[:, None]\n",
            "/usr/local/lib/python3.9/dist-packages/numpy/lib/function_base.py:2830: RuntimeWarning: invalid value encountered in true_divide\n",
            "  c /= stddev[None, :]\n"
          ]
        },
        {
          "output_type": "stream",
          "name": "stdout",
          "text": [
            "Iteration: 373699\n",
            "Mean correlation: 0.9308831446453909\n",
            "Standard deviation of correlation: 0.06787580488550897\n",
            "Mean weight: 0.999132992060455\n",
            "Standard deviation of weight: 0.9605221153051418\n",
            "==============================\n"
          ]
        },
        {
          "output_type": "stream",
          "name": "stderr",
          "text": [
            "/usr/local/lib/python3.9/dist-packages/numpy/lib/function_base.py:2829: RuntimeWarning: invalid value encountered in true_divide\n",
            "  c /= stddev[:, None]\n",
            "/usr/local/lib/python3.9/dist-packages/numpy/lib/function_base.py:2830: RuntimeWarning: invalid value encountered in true_divide\n",
            "  c /= stddev[None, :]\n"
          ]
        },
        {
          "output_type": "stream",
          "name": "stdout",
          "text": [
            "Iteration: 560836\n",
            "Mean correlation: 0.8950341630860601\n",
            "Standard deviation of correlation: 0.11238521195066814\n",
            "Mean weight: 0.9990924263064426\n",
            "Standard deviation of weight: 0.9596396819065466\n",
            "==============================\n",
            "Iteration: 747736\n",
            "Mean correlation: 0.900467898846002\n",
            "Standard deviation of correlation: 0.10184251573993024\n",
            "Mean weight: 0.9997378753998738\n",
            "Standard deviation of weight: 0.9604641023369136\n",
            "==============================\n",
            "Iteration: 934865\n",
            "Mean correlation: 0.9018821228512962\n",
            "Standard deviation of correlation: 0.09727307737295182\n",
            "Mean weight: 0.9992073721874282\n",
            "Standard deviation of weight: 0.9600840262042443\n",
            "==============================\n",
            "Iteration: 1122535\n",
            "Mean correlation: 0.9061499292722306\n",
            "Standard deviation of correlation: 0.09239524371338909\n",
            "Mean weight: 0.9994672771895754\n",
            "Standard deviation of weight: 0.9603077665288922\n",
            "==============================\n"
          ]
        },
        {
          "output_type": "stream",
          "name": "stderr",
          "text": [
            "/usr/local/lib/python3.9/dist-packages/numpy/lib/function_base.py:2829: RuntimeWarning: invalid value encountered in true_divide\n",
            "  c /= stddev[:, None]\n",
            "/usr/local/lib/python3.9/dist-packages/numpy/lib/function_base.py:2830: RuntimeWarning: invalid value encountered in true_divide\n",
            "  c /= stddev[None, :]\n"
          ]
        },
        {
          "output_type": "stream",
          "name": "stdout",
          "text": [
            "Iteration: 1310671\n",
            "Mean correlation: 0.9118357970092749\n",
            "Standard deviation of correlation: 0.08896953626052058\n",
            "Mean weight: 0.9997856059987594\n",
            "Standard deviation of weight: 0.9606421669633912\n",
            "==============================\n",
            "Iteration: 1498875\n",
            "Mean correlation: 0.9065984388399033\n",
            "Standard deviation of correlation: 0.09042902027204414\n",
            "Mean weight: 1.000567091985656\n",
            "Standard deviation of weight: 0.9608837000881163\n",
            "==============================\n",
            "Iteration: 1686030\n",
            "Mean correlation: 0.9068166714073426\n",
            "Standard deviation of correlation: 0.087906878487095\n",
            "Mean weight: 1.0004383077406689\n",
            "Standard deviation of weight: 0.9608174717951659\n",
            "==============================\n",
            "Iteration: 1870921\n",
            "Mean correlation: 0.9099496690062177\n",
            "Standard deviation of correlation: 0.08608922430222955\n",
            "Mean weight: 1.0008097616093892\n",
            "Standard deviation of weight: 0.9612794269724336\n",
            "==============================\n",
            "Iteration: 2057522\n",
            "Mean correlation: 0.9079637677648668\n",
            "Standard deviation of correlation: 0.08534246701912164\n",
            "Mean weight: 1.0005953763799367\n",
            "Standard deviation of weight: 0.9612420941315812\n",
            "==============================\n",
            "Iteration: 2245696\n",
            "Mean correlation: 0.9088832565551355\n",
            "Standard deviation of correlation: 0.08436797783986213\n",
            "Mean weight: 1.000446632135427\n",
            "Standard deviation of weight: 0.9611128549841971\n",
            "==============================\n",
            "Iteration: 2422260\n",
            "Mean correlation: 0.9095961847720395\n",
            "Standard deviation of correlation: 0.08378299940879284\n",
            "Mean weight: 1.000341829531099\n",
            "Standard deviation of weight: 0.9610201346445028\n",
            "==============================\n"
          ]
        },
        {
          "output_type": "stream",
          "name": "stderr",
          "text": [
            "/usr/local/lib/python3.9/dist-packages/numpy/lib/function_base.py:2829: RuntimeWarning: invalid value encountered in true_divide\n",
            "  c /= stddev[:, None]\n"
          ]
        },
        {
          "output_type": "stream",
          "name": "stdout",
          "text": [
            "Iteration: 2596283\n",
            "Mean correlation: 0.9113330263658529\n",
            "Standard deviation of correlation: 0.08367146788461825\n",
            "Mean weight: 1.0003092883171827\n",
            "Standard deviation of weight: 0.9610057873322366\n",
            "==============================\n",
            "Iteration: 2769669\n",
            "Mean correlation: 0.9079191646046005\n",
            "Standard deviation of correlation: 0.08435355049828994\n",
            "Mean weight: 1.0004072688830326\n",
            "Standard deviation of weight: 0.9610496025111864\n",
            "==============================\n",
            "Iteration: 2945309\n",
            "Mean correlation: 0.9067557554241337\n",
            "Standard deviation of correlation: 0.08529630763942109\n",
            "Mean weight: 1.000207788045329\n",
            "Standard deviation of weight: 0.9609401417314917\n",
            "==============================\n",
            "Iteration: 3116347\n",
            "Mean correlation: 0.907296958968232\n",
            "Standard deviation of correlation: 0.0844015518353665\n",
            "Mean weight: 1.000176167801596\n",
            "Standard deviation of weight: 0.9608278543485481\n",
            "==============================\n",
            "Iteration: 3276345\n",
            "Mean correlation: 0.9076620800429351\n",
            "Standard deviation of correlation: 0.08378210958163483\n",
            "Mean weight: 1.0002017492052881\n",
            "Standard deviation of weight: 0.960819497147116\n",
            "==============================\n",
            "Iteration: 3436674\n",
            "Mean correlation: 0.9068041004286044\n",
            "Standard deviation of correlation: 0.0839285104727429\n",
            "Mean weight: 1.0002118327196585\n",
            "Standard deviation of weight: 0.9608684655532925\n",
            "==============================\n",
            "Iteration: 3596208\n",
            "Mean correlation: 0.9067139917256228\n",
            "Standard deviation of correlation: 0.08367093006343687\n",
            "Mean weight: 1.000023357937027\n",
            "Standard deviation of weight: 0.9608249803342556\n",
            "==============================\n",
            "Iteration: 3756178\n",
            "Mean correlation: 0.9068698688127402\n",
            "Standard deviation of correlation: 0.08334593512309829\n",
            "Mean weight: 1.0000306162274524\n",
            "Standard deviation of weight: 0.9608306814518497\n",
            "==============================\n",
            "Iteration: 3915706\n",
            "Mean correlation: 0.9073747421902315\n",
            "Standard deviation of correlation: 0.08356434245003892\n",
            "Mean weight: 1.0000561839933846\n",
            "Standard deviation of weight: 0.9608763227879965\n",
            "==============================\n",
            "Iteration: 4074441\n",
            "Mean correlation: 0.9057537802472286\n",
            "Standard deviation of correlation: 0.08427889391780917\n",
            "Mean weight: 1.0000250341089736\n",
            "Standard deviation of weight: 0.960856991210418\n",
            "==============================\n",
            "Iteration: 4233917\n",
            "Mean correlation: 0.9058064182910545\n",
            "Standard deviation of correlation: 0.0839042527214884\n",
            "Mean weight: 1.0000179502810282\n",
            "Standard deviation of weight: 0.9608051727688336\n",
            "==============================\n",
            "Iteration: 4392717\n",
            "Mean correlation: 0.9052237299902711\n",
            "Standard deviation of correlation: 0.08392806226254416\n",
            "Mean weight: 0.9998465642107152\n",
            "Standard deviation of weight: 0.9607587583363679\n",
            "==============================\n",
            "Iteration: 4552624\n",
            "Mean correlation: 0.9049855936295446\n",
            "Standard deviation of correlation: 0.08416617614309331\n",
            "Mean weight: 0.9999604623619258\n",
            "Standard deviation of weight: 0.9608265156142672\n",
            "==============================\n",
            "Iteration: 4712623\n",
            "Mean correlation: 0.9041278044301967\n",
            "Standard deviation of correlation: 0.08468124453648447\n",
            "Mean weight: 1.0000106098026513\n",
            "Standard deviation of weight: 0.9608422966752687\n",
            "==============================\n",
            "Iteration: 4872953\n",
            "Mean correlation: 0.9037471096812952\n",
            "Standard deviation of correlation: 0.08489248203148077\n",
            "Mean weight: 0.999912783891\n",
            "Standard deviation of weight: 0.9607476167524425\n",
            "==============================\n",
            "Iteration: 5033189\n",
            "Mean correlation: 0.9029859105099122\n",
            "Standard deviation of correlation: 0.08576077496200785\n",
            "Mean weight: 0.9998394655952717\n",
            "Standard deviation of weight: 0.9606298701974562\n",
            "==============================\n",
            "Iteration: 5192611\n",
            "Mean correlation: 0.9020447769494472\n",
            "Standard deviation of correlation: 0.08750335535494909\n",
            "Mean weight: 0.999945692061277\n",
            "Standard deviation of weight: 0.9607264876902999\n",
            "==============================\n"
          ]
        },
        {
          "output_type": "stream",
          "name": "stderr",
          "text": [
            "/usr/local/lib/python3.9/dist-packages/numpy/lib/function_base.py:2829: RuntimeWarning: invalid value encountered in true_divide\n",
            "  c /= stddev[:, None]\n",
            "/usr/local/lib/python3.9/dist-packages/numpy/lib/function_base.py:2830: RuntimeWarning: invalid value encountered in true_divide\n",
            "  c /= stddev[None, :]\n"
          ]
        },
        {
          "output_type": "display_data",
          "data": {
            "text/plain": [
              "<Figure size 432x288 with 1 Axes>"
            ],
            "image/png": "[encoded data removed]"
          },
          "metadata": {}
        }
      ]
    },
    {
      "cell_type": "code",
      "source": [
        "import time\n",
        "import numpy as np\n",
        "import pandas as pd\n",
        "import seaborn as sns\n",
        "import matplotlib.pyplot as plt\n",
        "from scipy.special import binom\n",
        "\n",
        "n = law2.shape[0]\n",
        "total = int(binom(2*n - 1, n - 1))\n",
        "gray_codes = np.zeros((total, n))\n",
        "\n",
        "r = np.zeros(n)\n",
        "r[0] = n\n",
        "t = n\n",
        "h = 0\n",
        "gray_codes[0, :] = r\n",
        "\n",
        "i = 1\n",
        "while r[n - 1] != n:\n",
        "    if t != 1:\n",
        "        h = 0\n",
        "    h += 1\n",
        "    t = r[h - 1]\n",
        "    r[h - 1] = 0\n",
        "    r[0] = t - 1\n",
        "    r[h] += 1\n",
        "    gray_codes[i, :] = r\n",
        "    i += 1\n",
        "\n",
        "# Bootstrap Monte Carlo Simulation\n",
        "B = 40000\n",
        "mc_cors = np.zeros(B)\n",
        "\n",
        "start_time = time.time()\n",
        "for i in range(B):\n",
        "    mc_samp = np.random.choice(n, size=n, replace=True)\n",
        "    law_samp = law2.iloc[mc_samp, :]\n",
        "    mc_cors[i] = np.corrcoef(law_samp[\"LSAT\"], law_samp[\"GPA\"])[0, 1]\n",
        "    \n",
        "    # Print statistical information every 5 minutes\n",
        "    if time.time() - start_time > 300:\n",
        "        start_time = time.time()\n",
        "        df1 = pd.DataFrame(data=mc_cors[:i+1], columns=[\"cor\"])\n",
        "        print(\"Iteration:\", i+1)\n",
        "        print(\"Mean correlation:\", np.mean(df1[\"cor\"]))\n",
        "        print(\"Standard deviation of correlation:\", np.std(df1[\"cor\"]))\n",
        "        print(\"=\" * 30)\n",
        "    \n",
        "    # Output histogram every 10 minutes\n",
        "    if time.time() - start_time > 600:\n",
        "        start_time = time.time()\n",
        "        df1 = pd.DataFrame(data=mc_cors[:i+1], columns=[\"cor\"])\n",
        "        sns.histplot(data=df1, x=\"cor\", binwidth=0.013, kde=True)\n",
        "        plt.axvline(x=np.corrcoef(law2[\"LSAT\"], law2[\"GPA\"])[0, 1], color=\"red\")\n",
        "        plt.xlabel(\"Correlation\")\n",
        "        plt.ylabel(\"Count\")\n",
        "        plt.title(\"Bootstrap Distribution\")\n",
        "        plt.show()\n",
        "\n",
        "# Final histogram\n",
        "df1 = pd.DataFrame(data=mc_cors, columns=[\"cor\"])\n",
        "sns.histplot(data=df1, x=\"cor\", binwidth=0.013, kde=True)\n",
        "plt.axvline(x=np.corrcoef(law2[\"LSAT\"], law2[\"GPA\"])[0, 1], color=\"red\")\n",
        "plt.xlabel(\"Correlation\")\n",
        "plt.ylabel(\"Count\")\n",
        "plt.title(\"Bootstrap Distribution\")\n",
        "plt.show()"
      ],
      "metadata": {
        "colab": {
          "base_uri": "https://localhost:8080/",
          "height": 295
        },
        "id": "syclo682eQzL",
        "outputId": "2bfb8567-cd48-4f79-9040-5dbe141196a1"
      },
      "id": "syclo682eQzL",
      "execution_count": null,
      "outputs": [
        {
          "output_type": "display_data",
          "data": {
            "text/plain": [
              "<Figure size 432x288 with 1 Axes>"
            ],
            "image/png": "[encoded data removed]"
          },
          "metadata": {}
        }
      ]
    },
    {
      "cell_type": "markdown",
      "source": [
        "#Binary code representation.\n",
        "\n",
        "The process is being used to check the the number of iterations produced in first 10 minutes. "
      ],
      "metadata": {
        "id": "RTl1EZVGh9f7"
      },
      "id": "RTl1EZVGh9f7"
    },
    {
      "cell_type": "code",
      "source": [
        "import time\n",
        "from scipy.special import binom\n",
        "\n",
        "n = law2.shape[0]\n",
        "total = int(binom(2*n - 1, n - 1))\n",
        "\n",
        "# Complete Enumerations Simulation\n",
        "enumData = np.zeros((total, 2))\n",
        "start_time = time.time()\n",
        "\n",
        "for i in range(total):\n",
        "    index = np.zeros(n, dtype=int)\n",
        "    j = i\n",
        "    for k in range(n-1, -1, -1):\n",
        "        try:\n",
        "            index[k] = j // binom(k*2, k+1)\n",
        "        except ValueError:\n",
        "            index[k] = 0\n",
        "        j = j % binom(k*2, k+1)\n",
        "\n",
        "    law_list = []\n",
        "    for j in range(n):\n",
        "        law_list.append(np.tile(law2.iloc[j, :], (index[j], 1)))\n",
        "    newLaw = np.vstack(law_list)\n",
        "\n",
        "    enumData[i, 0] = np.corrcoef(newLaw[:, 0], newLaw[:, 1])[0, 1]\n",
        "    enumData[i, 1] = np.random.multinomial(index.sum(), np.ones(n) / n, size=1)[0][0]\n",
        "\n",
        "    # Print statistical information every 5 minutes\n",
        "    if time.time() - start_time > 300:\n",
        "        print(\"Time elapsed:\", time.time() - start_time)\n",
        "        start_time = time.time()\n",
        "        df = pd.DataFrame(data=enumData[:i+1, :], columns=[\"cor\", \"weight\"])\n",
        "        print(\"Iteration:\", i+1)\n",
        "        print(\"Mean correlation:\", np.mean(df[\"cor\"]))\n",
        "        print(\"Standard deviation of correlation:\", np.std(df[\"cor\"]))\n",
        "        print(\"Mean weight:\", np.mean(df[\"weight\"]))\n",
        "        print(\"Standard deviation of weight:\", np.std(df[\"weight\"]))\n",
        "        print(\"=\" * 30)\n",
        "\n",
        "    # Output histogram every 10 minutes\n",
        "    if time.time() - start_time > 600:\n",
        "        print(\"Time elapsed:\", time.time() - start_time)\n",
        "        start_time = time.time()\n",
        "        df = pd.DataFrame(data=enumData[:i+1, :], columns=[\"cor\", \"weight\"])\n",
        "        sns.histplot(data=df, x=\"cor\", binwidth=0.013, kde=True)\n",
        "        plt.axvline(x=np.corrcoef(law2[\"LSAT\"], law2[\"GPA\"])[0, 1], color=\"red\")\n",
        "        plt.xlabel(\"Correlation\")\n",
        "        plt.ylabel(\"Count\")\n",
        "        plt.title(\"Complete Enumerations Distribution\")\n",
        "        plt.show()\n",
        "\n",
        "# Final histogram\n",
        "df = pd.DataFrame(data=enumData, columns=[\"cor\", \"weight\"])\n",
        "sns.histplot(data=df, x=\"cor\", binwidth=0.013, kde=True)\n",
        "plt.axvline(x=np.corrcoef(law2[\"LSAT\"], law2[\"GPA\"])[0, 1], color=\"red\")\n",
        "plt.xlabel(\"Correlation\")\n",
        "plt.ylabel(\"Count\")\n",
        "plt.title(\"Complete Enumerations Distribution\")\n",
        "plt.show()"
      ],
      "metadata": {
        "colab": {
          "base_uri": "https://localhost:8080/",
          "height": 1000
        },
        "id": "QjLrz4uTiBYx",
        "outputId": "d9cbedea-8394-4cea-c988-25f303999ef1"
      },
      "id": "QjLrz4uTiBYx",
      "execution_count": null,
      "outputs": [
        {
          "output_type": "stream",
          "name": "stderr",
          "text": [
            "<ipython-input-14-0408ab3e0702>:16: RuntimeWarning: invalid value encountered in double_scalars\n",
            "  index[k] = j // binom(k*2, k+1)\n",
            "<ipython-input-14-0408ab3e0702>:19: RuntimeWarning: invalid value encountered in double_scalars\n",
            "  j = j % binom(k*2, k+1)\n",
            "/usr/local/lib/python3.9/dist-packages/numpy/lib/function_base.py:495: RuntimeWarning: Mean of empty slice.\n",
            "  avg = a.mean(axis)\n",
            "/usr/local/lib/python3.9/dist-packages/numpy/core/_methods.py:181: RuntimeWarning: invalid value encountered in true_divide\n",
            "  ret = um.true_divide(\n",
            "/usr/local/lib/python3.9/dist-packages/numpy/lib/function_base.py:2821: RuntimeWarning: Degrees of freedom <= 0 for slice\n",
            "  c = cov(x, y, rowvar, dtype=dtype)\n",
            "/usr/local/lib/python3.9/dist-packages/numpy/lib/function_base.py:2680: RuntimeWarning: divide by zero encountered in true_divide\n",
            "  c *= np.true_divide(1, fact)\n",
            "/usr/local/lib/python3.9/dist-packages/numpy/lib/function_base.py:2680: RuntimeWarning: invalid value encountered in multiply\n",
            "  c *= np.true_divide(1, fact)\n",
            "/usr/local/lib/python3.9/dist-packages/numpy/lib/function_base.py:2829: RuntimeWarning: invalid value encountered in true_divide\n",
            "  c /= stddev[:, None]\n",
            "/usr/local/lib/python3.9/dist-packages/numpy/lib/function_base.py:2830: RuntimeWarning: invalid value encountered in true_divide\n",
            "  c /= stddev[None, :]\n"
          ]
        },
        {
          "output_type": "stream",
          "name": "stdout",
          "text": [
            "Time elapsed: 300.0004596710205\n",
            "Iteration: 159096\n",
            "Mean correlation: 0.8869544419100895\n",
            "Standard deviation of correlation: 0.07758045843108664\n",
            "Mean weight: 0.9219276411726254\n",
            "Standard deviation of weight: 0.9465901866908828\n",
            "==============================\n"
          ]
        },
        {
          "output_type": "stream",
          "name": "stderr",
          "text": [
            "<ipython-input-14-0408ab3e0702>:16: RuntimeWarning: invalid value encountered in double_scalars\n",
            "  index[k] = j // binom(k*2, k+1)\n",
            "<ipython-input-14-0408ab3e0702>:19: RuntimeWarning: invalid value encountered in double_scalars\n",
            "  j = j % binom(k*2, k+1)\n",
            "/usr/local/lib/python3.9/dist-packages/numpy/lib/function_base.py:2821: RuntimeWarning: Degrees of freedom <= 0 for slice\n",
            "  c = cov(x, y, rowvar, dtype=dtype)\n",
            "/usr/local/lib/python3.9/dist-packages/numpy/lib/function_base.py:2680: RuntimeWarning: divide by zero encountered in true_divide\n",
            "  c *= np.true_divide(1, fact)\n",
            "/usr/local/lib/python3.9/dist-packages/numpy/lib/function_base.py:2680: RuntimeWarning: invalid value encountered in multiply\n",
            "  c *= np.true_divide(1, fact)\n"
          ]
        },
        {
          "output_type": "stream",
          "name": "stdout",
          "text": [
            "Time elapsed: 300.00000286102295\n",
            "Iteration: 316736\n",
            "Mean correlation: 0.8956610871605433\n",
            "Standard deviation of correlation: 0.06903376264272187\n",
            "Mean weight: 0.9597077692463124\n",
            "Standard deviation of weight: 0.9658916353896406\n",
            "==============================\n"
          ]
        },
        {
          "output_type": "stream",
          "name": "stderr",
          "text": [
            "<ipython-input-14-0408ab3e0702>:16: RuntimeWarning: invalid value encountered in double_scalars\n",
            "  index[k] = j // binom(k*2, k+1)\n",
            "<ipython-input-14-0408ab3e0702>:19: RuntimeWarning: invalid value encountered in double_scalars\n",
            "  j = j % binom(k*2, k+1)\n",
            "/usr/local/lib/python3.9/dist-packages/numpy/lib/function_base.py:2829: RuntimeWarning: invalid value encountered in true_divide\n",
            "  c /= stddev[:, None]\n"
          ]
        },
        {
          "output_type": "error",
          "ename": "KeyboardInterrupt",
          "evalue": "ignored",
          "traceback": [
            "\u001b[0;31m---------------------------------------------------------------------------\u001b[0m",
            "\u001b[0;31mKeyboardInterrupt\u001b[0m                         Traceback (most recent call last)",
            "\u001b[0;32m<ipython-input-14-0408ab3e0702>\u001b[0m in \u001b[0;36m<module>\u001b[0;34m\u001b[0m\n\u001b[1;32m     21\u001b[0m     \u001b[0mlaw_list\u001b[0m \u001b[0;34m=\u001b[0m \u001b[0;34m[\u001b[0m\u001b[0;34m]\u001b[0m\u001b[0;34m\u001b[0m\u001b[0;34m\u001b[0m\u001b[0m\n\u001b[1;32m     22\u001b[0m     \u001b[0;32mfor\u001b[0m \u001b[0mj\u001b[0m \u001b[0;32min\u001b[0m \u001b[0mrange\u001b[0m\u001b[0;34m(\u001b[0m\u001b[0mn\u001b[0m\u001b[0;34m)\u001b[0m\u001b[0;34m:\u001b[0m\u001b[0;34m\u001b[0m\u001b[0;34m\u001b[0m\u001b[0m\n\u001b[0;32m---> 23\u001b[0;31m         \u001b[0mlaw_list\u001b[0m\u001b[0;34m.\u001b[0m\u001b[0mappend\u001b[0m\u001b[0;34m(\u001b[0m\u001b[0mnp\u001b[0m\u001b[0;34m.\u001b[0m\u001b[0mtile\u001b[0m\u001b[0;34m(\u001b[0m\u001b[0mlaw2\u001b[0m\u001b[0;34m.\u001b[0m\u001b[0miloc\u001b[0m\u001b[0;34m[\u001b[0m\u001b[0mj\u001b[0m\u001b[0;34m,\u001b[0m \u001b[0;34m:\u001b[0m\u001b[0;34m]\u001b[0m\u001b[0;34m,\u001b[0m \u001b[0;34m(\u001b[0m\u001b[0mindex\u001b[0m\u001b[0;34m[\u001b[0m\u001b[0mj\u001b[0m\u001b[0;34m]\u001b[0m\u001b[0;34m,\u001b[0m \u001b[0;36m1\u001b[0m\u001b[0;34m)\u001b[0m\u001b[0;34m)\u001b[0m\u001b[0;34m)\u001b[0m\u001b[0;34m\u001b[0m\u001b[0;34m\u001b[0m\u001b[0m\n\u001b[0m\u001b[1;32m     24\u001b[0m     \u001b[0mnewLaw\u001b[0m \u001b[0;34m=\u001b[0m \u001b[0mnp\u001b[0m\u001b[0;34m.\u001b[0m\u001b[0mvstack\u001b[0m\u001b[0;34m(\u001b[0m\u001b[0mlaw_list\u001b[0m\u001b[0;34m)\u001b[0m\u001b[0;34m\u001b[0m\u001b[0;34m\u001b[0m\u001b[0m\n\u001b[1;32m     25\u001b[0m \u001b[0;34m\u001b[0m\u001b[0m\n",
            "\u001b[0;32m/usr/local/lib/python3.9/dist-packages/pandas/core/indexing.py\u001b[0m in \u001b[0;36m__getitem__\u001b[0;34m(self, key)\u001b[0m\n\u001b[1;32m    959\u001b[0m             \u001b[0;32mif\u001b[0m \u001b[0mself\u001b[0m\u001b[0;34m.\u001b[0m\u001b[0m_is_scalar_access\u001b[0m\u001b[0;34m(\u001b[0m\u001b[0mkey\u001b[0m\u001b[0;34m)\u001b[0m\u001b[0;34m:\u001b[0m\u001b[0;34m\u001b[0m\u001b[0;34m\u001b[0m\u001b[0m\n\u001b[1;32m    960\u001b[0m                 \u001b[0;32mreturn\u001b[0m \u001b[0mself\u001b[0m\u001b[0;34m.\u001b[0m\u001b[0mobj\u001b[0m\u001b[0;34m.\u001b[0m\u001b[0m_get_value\u001b[0m\u001b[0;34m(\u001b[0m\u001b[0;34m*\u001b[0m\u001b[0mkey\u001b[0m\u001b[0;34m,\u001b[0m \u001b[0mtakeable\u001b[0m\u001b[0;34m=\u001b[0m\u001b[0mself\u001b[0m\u001b[0;34m.\u001b[0m\u001b[0m_takeable\u001b[0m\u001b[0;34m)\u001b[0m\u001b[0;34m\u001b[0m\u001b[0;34m\u001b[0m\u001b[0m\n\u001b[0;32m--> 961\u001b[0;31m             \u001b[0;32mreturn\u001b[0m \u001b[0mself\u001b[0m\u001b[0;34m.\u001b[0m\u001b[0m_getitem_tuple\u001b[0m\u001b[0;34m(\u001b[0m\u001b[0mkey\u001b[0m\u001b[0;34m)\u001b[0m\u001b[0;34m\u001b[0m\u001b[0;34m\u001b[0m\u001b[0m\n\u001b[0m\u001b[1;32m    962\u001b[0m         \u001b[0;32melse\u001b[0m\u001b[0;34m:\u001b[0m\u001b[0;34m\u001b[0m\u001b[0;34m\u001b[0m\u001b[0m\n\u001b[1;32m    963\u001b[0m             \u001b[0;31m# we by definition only have the 0th axis\u001b[0m\u001b[0;34m\u001b[0m\u001b[0;34m\u001b[0m\u001b[0m\n",
            "\u001b[0;32m/usr/local/lib/python3.9/dist-packages/pandas/core/indexing.py\u001b[0m in \u001b[0;36m_getitem_tuple\u001b[0;34m(self, tup)\u001b[0m\n\u001b[1;32m   1461\u001b[0m         \u001b[0mtup\u001b[0m \u001b[0;34m=\u001b[0m \u001b[0mself\u001b[0m\u001b[0;34m.\u001b[0m\u001b[0m_validate_tuple_indexer\u001b[0m\u001b[0;34m(\u001b[0m\u001b[0mtup\u001b[0m\u001b[0;34m)\u001b[0m\u001b[0;34m\u001b[0m\u001b[0;34m\u001b[0m\u001b[0m\n\u001b[1;32m   1462\u001b[0m         \u001b[0;32mwith\u001b[0m \u001b[0msuppress\u001b[0m\u001b[0;34m(\u001b[0m\u001b[0mIndexingError\u001b[0m\u001b[0;34m)\u001b[0m\u001b[0;34m:\u001b[0m\u001b[0;34m\u001b[0m\u001b[0;34m\u001b[0m\u001b[0m\n\u001b[0;32m-> 1463\u001b[0;31m             \u001b[0;32mreturn\u001b[0m \u001b[0mself\u001b[0m\u001b[0;34m.\u001b[0m\u001b[0m_getitem_lowerdim\u001b[0m\u001b[0;34m(\u001b[0m\u001b[0mtup\u001b[0m\u001b[0;34m)\u001b[0m\u001b[0;34m\u001b[0m\u001b[0;34m\u001b[0m\u001b[0m\n\u001b[0m\u001b[1;32m   1464\u001b[0m \u001b[0;34m\u001b[0m\u001b[0m\n\u001b[1;32m   1465\u001b[0m         \u001b[0;32mreturn\u001b[0m \u001b[0mself\u001b[0m\u001b[0;34m.\u001b[0m\u001b[0m_getitem_tuple_same_dim\u001b[0m\u001b[0;34m(\u001b[0m\u001b[0mtup\u001b[0m\u001b[0;34m)\u001b[0m\u001b[0;34m\u001b[0m\u001b[0;34m\u001b[0m\u001b[0m\n",
            "\u001b[0;32m/usr/local/lib/python3.9/dist-packages/pandas/core/indexing.py\u001b[0m in \u001b[0;36m_getitem_lowerdim\u001b[0;34m(self, tup)\u001b[0m\n\u001b[1;32m    865\u001b[0m                 \u001b[0;31m# We don't need to check for tuples here because those are\u001b[0m\u001b[0;34m\u001b[0m\u001b[0;34m\u001b[0m\u001b[0m\n\u001b[1;32m    866\u001b[0m                 \u001b[0;31m#  caught by the _is_nested_tuple_indexer check above.\u001b[0m\u001b[0;34m\u001b[0m\u001b[0;34m\u001b[0m\u001b[0m\n\u001b[0;32m--> 867\u001b[0;31m                 \u001b[0msection\u001b[0m \u001b[0;34m=\u001b[0m \u001b[0mself\u001b[0m\u001b[0;34m.\u001b[0m\u001b[0m_getitem_axis\u001b[0m\u001b[0;34m(\u001b[0m\u001b[0mkey\u001b[0m\u001b[0;34m,\u001b[0m \u001b[0maxis\u001b[0m\u001b[0;34m=\u001b[0m\u001b[0mi\u001b[0m\u001b[0;34m)\u001b[0m\u001b[0;34m\u001b[0m\u001b[0;34m\u001b[0m\u001b[0m\n\u001b[0m\u001b[1;32m    868\u001b[0m \u001b[0;34m\u001b[0m\u001b[0m\n\u001b[1;32m    869\u001b[0m                 \u001b[0;31m# We should never have a scalar section here, because\u001b[0m\u001b[0;34m\u001b[0m\u001b[0;34m\u001b[0m\u001b[0m\n",
            "\u001b[0;32m/usr/local/lib/python3.9/dist-packages/pandas/core/indexing.py\u001b[0m in \u001b[0;36m_getitem_axis\u001b[0;34m(self, key, axis)\u001b[0m\n\u001b[1;32m   1523\u001b[0m             \u001b[0mself\u001b[0m\u001b[0;34m.\u001b[0m\u001b[0m_validate_integer\u001b[0m\u001b[0;34m(\u001b[0m\u001b[0mkey\u001b[0m\u001b[0;34m,\u001b[0m \u001b[0maxis\u001b[0m\u001b[0;34m)\u001b[0m\u001b[0;34m\u001b[0m\u001b[0;34m\u001b[0m\u001b[0m\n\u001b[1;32m   1524\u001b[0m \u001b[0;34m\u001b[0m\u001b[0m\n\u001b[0;32m-> 1525\u001b[0;31m             \u001b[0;32mreturn\u001b[0m \u001b[0mself\u001b[0m\u001b[0;34m.\u001b[0m\u001b[0mobj\u001b[0m\u001b[0;34m.\u001b[0m\u001b[0m_ixs\u001b[0m\u001b[0;34m(\u001b[0m\u001b[0mkey\u001b[0m\u001b[0;34m,\u001b[0m \u001b[0maxis\u001b[0m\u001b[0;34m=\u001b[0m\u001b[0maxis\u001b[0m\u001b[0;34m)\u001b[0m\u001b[0;34m\u001b[0m\u001b[0;34m\u001b[0m\u001b[0m\n\u001b[0m\u001b[1;32m   1526\u001b[0m \u001b[0;34m\u001b[0m\u001b[0m\n\u001b[1;32m   1527\u001b[0m     \u001b[0;32mdef\u001b[0m \u001b[0m_get_slice_axis\u001b[0m\u001b[0;34m(\u001b[0m\u001b[0mself\u001b[0m\u001b[0;34m,\u001b[0m \u001b[0mslice_obj\u001b[0m\u001b[0;34m:\u001b[0m \u001b[0mslice\u001b[0m\u001b[0;34m,\u001b[0m \u001b[0maxis\u001b[0m\u001b[0;34m:\u001b[0m \u001b[0mint\u001b[0m\u001b[0;34m)\u001b[0m\u001b[0;34m:\u001b[0m\u001b[0;34m\u001b[0m\u001b[0;34m\u001b[0m\u001b[0m\n",
            "\u001b[0;32m/usr/local/lib/python3.9/dist-packages/pandas/core/frame.py\u001b[0m in \u001b[0;36m_ixs\u001b[0;34m(self, i, axis)\u001b[0m\n\u001b[1;32m   3426\u001b[0m             \u001b[0;31m# if we are a copy, mark as such\u001b[0m\u001b[0;34m\u001b[0m\u001b[0;34m\u001b[0m\u001b[0m\n\u001b[1;32m   3427\u001b[0m             \u001b[0mcopy\u001b[0m \u001b[0;34m=\u001b[0m \u001b[0misinstance\u001b[0m\u001b[0;34m(\u001b[0m\u001b[0mnew_values\u001b[0m\u001b[0;34m,\u001b[0m \u001b[0mnp\u001b[0m\u001b[0;34m.\u001b[0m\u001b[0mndarray\u001b[0m\u001b[0;34m)\u001b[0m \u001b[0;32mand\u001b[0m \u001b[0mnew_values\u001b[0m\u001b[0;34m.\u001b[0m\u001b[0mbase\u001b[0m \u001b[0;32mis\u001b[0m \u001b[0;32mNone\u001b[0m\u001b[0;34m\u001b[0m\u001b[0;34m\u001b[0m\u001b[0m\n\u001b[0;32m-> 3428\u001b[0;31m             result = self._constructor_sliced(\n\u001b[0m\u001b[1;32m   3429\u001b[0m                 \u001b[0mnew_values\u001b[0m\u001b[0;34m,\u001b[0m\u001b[0;34m\u001b[0m\u001b[0;34m\u001b[0m\u001b[0m\n\u001b[1;32m   3430\u001b[0m                 \u001b[0mindex\u001b[0m\u001b[0;34m=\u001b[0m\u001b[0mself\u001b[0m\u001b[0;34m.\u001b[0m\u001b[0mcolumns\u001b[0m\u001b[0;34m,\u001b[0m\u001b[0;34m\u001b[0m\u001b[0;34m\u001b[0m\u001b[0m\n",
            "\u001b[0;32m/usr/local/lib/python3.9/dist-packages/pandas/core/series.py\u001b[0m in \u001b[0;36m__init__\u001b[0;34m(self, data, index, dtype, name, copy, fastpath)\u001b[0m\n\u001b[1;32m    449\u001b[0m                     \u001b[0mdata\u001b[0m \u001b[0;34m=\u001b[0m \u001b[0mdata\u001b[0m\u001b[0;34m.\u001b[0m\u001b[0mcopy\u001b[0m\u001b[0;34m(\u001b[0m\u001b[0;34m)\u001b[0m\u001b[0;34m\u001b[0m\u001b[0;34m\u001b[0m\u001b[0m\n\u001b[1;32m    450\u001b[0m             \u001b[0;32melse\u001b[0m\u001b[0;34m:\u001b[0m\u001b[0;34m\u001b[0m\u001b[0;34m\u001b[0m\u001b[0m\n\u001b[0;32m--> 451\u001b[0;31m                 \u001b[0mdata\u001b[0m \u001b[0;34m=\u001b[0m \u001b[0msanitize_array\u001b[0m\u001b[0;34m(\u001b[0m\u001b[0mdata\u001b[0m\u001b[0;34m,\u001b[0m \u001b[0mindex\u001b[0m\u001b[0;34m,\u001b[0m \u001b[0mdtype\u001b[0m\u001b[0;34m,\u001b[0m \u001b[0mcopy\u001b[0m\u001b[0;34m)\u001b[0m\u001b[0;34m\u001b[0m\u001b[0;34m\u001b[0m\u001b[0m\n\u001b[0m\u001b[1;32m    452\u001b[0m \u001b[0;34m\u001b[0m\u001b[0m\n\u001b[1;32m    453\u001b[0m                 \u001b[0mmanager\u001b[0m \u001b[0;34m=\u001b[0m \u001b[0mget_option\u001b[0m\u001b[0;34m(\u001b[0m\u001b[0;34m\"mode.data_manager\"\u001b[0m\u001b[0;34m)\u001b[0m\u001b[0;34m\u001b[0m\u001b[0;34m\u001b[0m\u001b[0m\n",
            "\u001b[0;31mKeyboardInterrupt\u001b[0m: "
          ]
        }
      ]
    },
    {
      "cell_type": "markdown",
      "source": [
        "Binary code representation: 160000 iterations in 300 seconds (5 minutes)\n",
        "\n",
        "Gray code representation: 190000 iterations in 300 seconds (5 minutes)\n",
        "\n",
        "approximately 18% more iterations\n",
        "\n",
        "Therefore, the number of iterations per second for **binary** code representation is:\n",
        "x = 160000 / 300 = 533.33 iterations/second\n",
        "\n",
        "And the number of iterations per second for **gray code** representation is:\n",
        "y = 190000 / 300 = 633.33 iterations/second\n",
        "\n",
        "\n",
        "time_binary = 40000 / 533.33 = 75 sec\n",
        "\n",
        "time_gray = 40000 / 633.33 = 63 sec\n",
        "\n",
        "\n",
        "\n",
        "1.19 times faster based on our assumptions (O(n))"
      ],
      "metadata": {
        "id": "xUQV30c4oziw"
      },
      "id": "xUQV30c4oziw"
    }
  ],
  "metadata": {
    "kernelspec": {
      "display_name": "Python 3 (ipykernel)",
      "language": "python",
      "name": "python3"
    },
    "language_info": {
      "codemirror_mode": {
        "name": "ipython",
        "version": 3
      },
      "file_extension": ".py",
      "mimetype": "text/x-python",
      "name": "python",
      "nbconvert_exporter": "python",
      "pygments_lexer": "ipython3",
      "version": "3.9.13"
    },
    "colab": {
      "provenance": [],
      "machine_shape": "hm"
    },
    "accelerator": "GPU",
    "gpuClass": "standard"
  },
  "nbformat": 4,
  "nbformat_minor": 5
}