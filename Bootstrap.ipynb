{
 "cells": [
  {
   "cell_type": "markdown",
   "id": "e7732623",
   "metadata": {},
   "source": [
    "# Necessary installs: run them only once, then restart kernel"
   ]
  },
  {
   "cell_type": "code",
   "execution_count": 2,
   "id": "f03f03d1",
   "metadata": {},
   "outputs": [],
   "source": [
    "#pip install asyncio"
   ]
  },
  {
   "cell_type": "code",
   "execution_count": 3,
   "id": "a33bff1f",
   "metadata": {},
   "outputs": [],
   "source": [
    "#pip install bootstrap-stat"
   ]
  },
  {
   "cell_type": "code",
   "execution_count": 4,
   "id": "2c25b963",
   "metadata": {},
   "outputs": [],
   "source": [
    "#pip install --upgrade scipy"
   ]
  },
  {
   "cell_type": "markdown",
   "id": "8329b737",
   "metadata": {},
   "source": [
    "# Imports"
   ]
  },
  {
   "cell_type": "code",
   "execution_count": 1,
   "id": "9c76038e",
   "metadata": {},
   "outputs": [],
   "source": [
    "import pandas as pd\n",
    "import numpy as np\n",
    "import time\n",
    "import os\n",
    "import matplotlib.pyplot as plt\n",
    "from scipy.stats import pearsonr, spearmanr, bootstrap\n",
    "import statsmodels.api as sm\n",
    "import seaborn as sns\n",
    "import itertools\n",
    "import random\n",
    "from sympy.combinatorics import GrayCode\n",
    "from multiprocessing import Process, Pool\n",
    "from joblib import Parallel, delayed\n",
    "import tqdm"
   ]
  },
  {
   "cell_type": "code",
   "execution_count": 2,
   "id": "96d896f4",
   "metadata": {},
   "outputs": [],
   "source": [
    "random.seed(42) ### setting a random seed for reproducible results"
   ]
  },
  {
   "cell_type": "code",
   "execution_count": 3,
   "id": "c898e7d1",
   "metadata": {},
   "outputs": [],
   "source": [
    "from bootstrap_stat import bootstrap_stat as bp\n",
    "from bootstrap_stat import datasets as d"
   ]
  },
  {
   "cell_type": "code",
   "execution_count": 5,
   "id": "70a37151",
   "metadata": {},
   "outputs": [
    {
     "data": {
      "text/html": [
       "<div>\n",
       "<style scoped>\n",
       "    .dataframe tbody tr th:only-of-type {\n",
       "        vertical-align: middle;\n",
       "    }\n",
       "\n",
       "    .dataframe tbody tr th {\n",
       "        vertical-align: top;\n",
       "    }\n",
       "\n",
       "    .dataframe thead th {\n",
       "        text-align: right;\n",
       "    }\n",
       "</style>\n",
       "<table border=\"1\" class=\"dataframe\">\n",
       "  <thead>\n",
       "    <tr style=\"text-align: right;\">\n",
       "      <th></th>\n",
       "      <th>LSAT</th>\n",
       "      <th>GPA</th>\n",
       "    </tr>\n",
       "  </thead>\n",
       "  <tbody>\n",
       "    <tr>\n",
       "      <th>0</th>\n",
       "      <td>576</td>\n",
       "      <td>3.39</td>\n",
       "    </tr>\n",
       "    <tr>\n",
       "      <th>1</th>\n",
       "      <td>635</td>\n",
       "      <td>3.30</td>\n",
       "    </tr>\n",
       "    <tr>\n",
       "      <th>2</th>\n",
       "      <td>558</td>\n",
       "      <td>2.81</td>\n",
       "    </tr>\n",
       "    <tr>\n",
       "      <th>3</th>\n",
       "      <td>578</td>\n",
       "      <td>3.03</td>\n",
       "    </tr>\n",
       "    <tr>\n",
       "      <th>4</th>\n",
       "      <td>666</td>\n",
       "      <td>3.44</td>\n",
       "    </tr>\n",
       "    <tr>\n",
       "      <th>5</th>\n",
       "      <td>580</td>\n",
       "      <td>3.07</td>\n",
       "    </tr>\n",
       "    <tr>\n",
       "      <th>6</th>\n",
       "      <td>555</td>\n",
       "      <td>3.00</td>\n",
       "    </tr>\n",
       "    <tr>\n",
       "      <th>7</th>\n",
       "      <td>661</td>\n",
       "      <td>3.43</td>\n",
       "    </tr>\n",
       "    <tr>\n",
       "      <th>8</th>\n",
       "      <td>651</td>\n",
       "      <td>3.36</td>\n",
       "    </tr>\n",
       "    <tr>\n",
       "      <th>9</th>\n",
       "      <td>605</td>\n",
       "      <td>3.13</td>\n",
       "    </tr>\n",
       "    <tr>\n",
       "      <th>10</th>\n",
       "      <td>653</td>\n",
       "      <td>3.12</td>\n",
       "    </tr>\n",
       "    <tr>\n",
       "      <th>11</th>\n",
       "      <td>575</td>\n",
       "      <td>2.74</td>\n",
       "    </tr>\n",
       "    <tr>\n",
       "      <th>12</th>\n",
       "      <td>545</td>\n",
       "      <td>2.76</td>\n",
       "    </tr>\n",
       "    <tr>\n",
       "      <th>13</th>\n",
       "      <td>572</td>\n",
       "      <td>2.88</td>\n",
       "    </tr>\n",
       "    <tr>\n",
       "      <th>14</th>\n",
       "      <td>594</td>\n",
       "      <td>2.96</td>\n",
       "    </tr>\n",
       "  </tbody>\n",
       "</table>\n",
       "</div>"
      ],
      "text/plain": [
       "    LSAT   GPA\n",
       "0    576  3.39\n",
       "1    635  3.30\n",
       "2    558  2.81\n",
       "3    578  3.03\n",
       "4    666  3.44\n",
       "5    580  3.07\n",
       "6    555  3.00\n",
       "7    661  3.43\n",
       "8    651  3.36\n",
       "9    605  3.13\n",
       "10   653  3.12\n",
       "11   575  2.74\n",
       "12   545  2.76\n",
       "13   572  2.88\n",
       "14   594  2.96"
      ]
     },
     "execution_count": 5,
     "metadata": {},
     "output_type": "execute_result"
    }
   ],
   "source": [
    "df = d.law_data()\n",
    "df ###dataframe containing all 15 datapoints"
   ]
  },
  {
   "cell_type": "code",
   "execution_count": 7,
   "id": "4946a260",
   "metadata": {},
   "outputs": [
    {
     "data": {
      "text/html": [
       "<div>\n",
       "<style scoped>\n",
       "    .dataframe tbody tr th:only-of-type {\n",
       "        vertical-align: middle;\n",
       "    }\n",
       "\n",
       "    .dataframe tbody tr th {\n",
       "        vertical-align: top;\n",
       "    }\n",
       "\n",
       "    .dataframe thead th {\n",
       "        text-align: right;\n",
       "    }\n",
       "</style>\n",
       "<table border=\"1\" class=\"dataframe\">\n",
       "  <thead>\n",
       "    <tr style=\"text-align: right;\">\n",
       "      <th></th>\n",
       "      <th>LSAT</th>\n",
       "      <th>GPA</th>\n",
       "    </tr>\n",
       "  </thead>\n",
       "  <tbody>\n",
       "    <tr>\n",
       "      <th>count</th>\n",
       "      <td>15.000000</td>\n",
       "      <td>15.000000</td>\n",
       "    </tr>\n",
       "    <tr>\n",
       "      <th>mean</th>\n",
       "      <td>600.266667</td>\n",
       "      <td>3.094667</td>\n",
       "    </tr>\n",
       "    <tr>\n",
       "      <th>std</th>\n",
       "      <td>41.794509</td>\n",
       "      <td>0.243512</td>\n",
       "    </tr>\n",
       "    <tr>\n",
       "      <th>min</th>\n",
       "      <td>545.000000</td>\n",
       "      <td>2.740000</td>\n",
       "    </tr>\n",
       "    <tr>\n",
       "      <th>25%</th>\n",
       "      <td>573.500000</td>\n",
       "      <td>2.920000</td>\n",
       "    </tr>\n",
       "    <tr>\n",
       "      <th>50%</th>\n",
       "      <td>580.000000</td>\n",
       "      <td>3.070000</td>\n",
       "    </tr>\n",
       "    <tr>\n",
       "      <th>75%</th>\n",
       "      <td>643.000000</td>\n",
       "      <td>3.330000</td>\n",
       "    </tr>\n",
       "    <tr>\n",
       "      <th>max</th>\n",
       "      <td>666.000000</td>\n",
       "      <td>3.440000</td>\n",
       "    </tr>\n",
       "  </tbody>\n",
       "</table>\n",
       "</div>"
      ],
      "text/plain": [
       "             LSAT        GPA\n",
       "count   15.000000  15.000000\n",
       "mean   600.266667   3.094667\n",
       "std     41.794509   0.243512\n",
       "min    545.000000   2.740000\n",
       "25%    573.500000   2.920000\n",
       "50%    580.000000   3.070000\n",
       "75%    643.000000   3.330000\n",
       "max    666.000000   3.440000"
      ]
     },
     "execution_count": 7,
     "metadata": {},
     "output_type": "execute_result"
    }
   ],
   "source": [
    "df.describe() ###basic statistics for the data"
   ]
  },
  {
   "cell_type": "code",
   "execution_count": 8,
   "id": "2afd0b1a",
   "metadata": {},
   "outputs": [
    {
     "data": {
      "image/png": "[encoded data removed]",
      "text/plain": [
       "<Figure size 640x480 with 1 Axes>"
      ]
     },
     "metadata": {},
     "output_type": "display_data"
    }
   ],
   "source": [
    "### Plotting the points\n",
    "\n",
    "fig = plt.figure()\n",
    "ax = fig.add_subplot(111)\n",
    "x = df['LSAT']\n",
    "y = df['GPA']\n",
    "\n",
    "ax.scatter(x, y)\n",
    "ax.set_xlabel(\"LSAT score\")\n",
    "ax.set_ylabel(\"GPA score\")\n",
    "for xy in zip(x, y):\n",
    "    plt.annotate('(%.0f, %.2f)' % xy, xy=xy)\n",
    "plt.show()"
   ]
  },
  {
   "cell_type": "code",
   "execution_count": 9,
   "id": "11fd46da",
   "metadata": {},
   "outputs": [
    {
     "data": {
      "text/plain": [
       "PearsonRResult(statistic=0.776374491289407, pvalue=0.0006651020111028157)"
      ]
     },
     "execution_count": 9,
     "metadata": {},
     "output_type": "execute_result"
    }
   ],
   "source": [
    "### Pearson's r correlation coefficient for the whole n=15 points\n",
    "\n",
    "pearsonr(df['LSAT'], df['GPA'])"
   ]
  },
  {
   "cell_type": "code",
   "execution_count": 11,
   "id": "94d95f85",
   "metadata": {},
   "outputs": [
    {
     "data": {
      "text/plain": [
       "SignificanceResult(statistic=0.7964285714285713, pvalue=0.00038046767853463354)"
      ]
     },
     "execution_count": 11,
     "metadata": {},
     "output_type": "execute_result"
    }
   ],
   "source": [
    "### Spearsman's r for reference and comparison\n",
    "\n",
    "spearmanr(df['LSAT'], df['GPA'])"
   ]
  },
  {
   "cell_type": "code",
   "execution_count": 12,
   "id": "bb2373a2",
   "metadata": {},
   "outputs": [
    {
     "data": {
      "text/html": [
       "<div>\n",
       "<style scoped>\n",
       "    .dataframe tbody tr th:only-of-type {\n",
       "        vertical-align: middle;\n",
       "    }\n",
       "\n",
       "    .dataframe tbody tr th {\n",
       "        vertical-align: top;\n",
       "    }\n",
       "\n",
       "    .dataframe thead th {\n",
       "        text-align: right;\n",
       "    }\n",
       "</style>\n",
       "<table border=\"1\" class=\"dataframe\">\n",
       "  <thead>\n",
       "    <tr style=\"text-align: right;\">\n",
       "      <th></th>\n",
       "      <th>LSAT</th>\n",
       "      <th>GPA</th>\n",
       "    </tr>\n",
       "  </thead>\n",
       "  <tbody>\n",
       "    <tr>\n",
       "      <th>0</th>\n",
       "      <td>576</td>\n",
       "      <td>3.39</td>\n",
       "    </tr>\n",
       "    <tr>\n",
       "      <th>1</th>\n",
       "      <td>635</td>\n",
       "      <td>3.30</td>\n",
       "    </tr>\n",
       "    <tr>\n",
       "      <th>2</th>\n",
       "      <td>558</td>\n",
       "      <td>2.81</td>\n",
       "    </tr>\n",
       "    <tr>\n",
       "      <th>3</th>\n",
       "      <td>578</td>\n",
       "      <td>3.03</td>\n",
       "    </tr>\n",
       "    <tr>\n",
       "      <th>4</th>\n",
       "      <td>666</td>\n",
       "      <td>3.44</td>\n",
       "    </tr>\n",
       "    <tr>\n",
       "      <th>5</th>\n",
       "      <td>580</td>\n",
       "      <td>3.07</td>\n",
       "    </tr>\n",
       "    <tr>\n",
       "      <th>6</th>\n",
       "      <td>555</td>\n",
       "      <td>3.00</td>\n",
       "    </tr>\n",
       "    <tr>\n",
       "      <th>7</th>\n",
       "      <td>661</td>\n",
       "      <td>3.43</td>\n",
       "    </tr>\n",
       "    <tr>\n",
       "      <th>8</th>\n",
       "      <td>651</td>\n",
       "      <td>3.36</td>\n",
       "    </tr>\n",
       "    <tr>\n",
       "      <th>9</th>\n",
       "      <td>605</td>\n",
       "      <td>3.13</td>\n",
       "    </tr>\n",
       "    <tr>\n",
       "      <th>10</th>\n",
       "      <td>653</td>\n",
       "      <td>3.12</td>\n",
       "    </tr>\n",
       "    <tr>\n",
       "      <th>11</th>\n",
       "      <td>575</td>\n",
       "      <td>2.74</td>\n",
       "    </tr>\n",
       "    <tr>\n",
       "      <th>12</th>\n",
       "      <td>545</td>\n",
       "      <td>2.76</td>\n",
       "    </tr>\n",
       "    <tr>\n",
       "      <th>13</th>\n",
       "      <td>572</td>\n",
       "      <td>2.88</td>\n",
       "    </tr>\n",
       "    <tr>\n",
       "      <th>14</th>\n",
       "      <td>594</td>\n",
       "      <td>2.96</td>\n",
       "    </tr>\n",
       "  </tbody>\n",
       "</table>\n",
       "</div>"
      ],
      "text/plain": [
       "    LSAT   GPA\n",
       "0    576  3.39\n",
       "1    635  3.30\n",
       "2    558  2.81\n",
       "3    578  3.03\n",
       "4    666  3.44\n",
       "5    580  3.07\n",
       "6    555  3.00\n",
       "7    661  3.43\n",
       "8    651  3.36\n",
       "9    605  3.13\n",
       "10   653  3.12\n",
       "11   575  2.74\n",
       "12   545  2.76\n",
       "13   572  2.88\n",
       "14   594  2.96"
      ]
     },
     "execution_count": 12,
     "metadata": {},
     "output_type": "execute_result"
    }
   ],
   "source": [
    "df"
   ]
  },
  {
   "cell_type": "markdown",
   "id": "4e4ac5b1",
   "metadata": {},
   "source": [
    "# Bootstrap for B=40000 for complete (n=15) dataset"
   ]
  },
  {
   "cell_type": "code",
   "execution_count": 13,
   "id": "778f1703",
   "metadata": {},
   "outputs": [
    {
     "name": "stdout",
     "output_type": "stream",
     "text": [
      "(15, 2)\n"
     ]
    }
   ],
   "source": [
    "A = df.to_numpy() ### A is a copy of df, used for random sampling in the bootstrap\n",
    "print(A.shape)"
   ]
  },
  {
   "cell_type": "code",
   "execution_count": 14,
   "id": "df128df9",
   "metadata": {},
   "outputs": [
    {
     "name": "stdout",
     "output_type": "stream",
     "text": [
      "The time to run the bootstrap for 40000 number of samples was: 41.73664617538452 seconds\n",
      "\n",
      "The mean of this distribution is:0.7701965395402364\n"
     ]
    }
   ],
   "source": [
    "### This cell contains the loop that calculates the pearson's r coefficient distribution for the bootstrap\n",
    "\n",
    "\n",
    "start = time.time()\n",
    "boot_r = [] ### boot r contains all the 40,000 results for the bootstrap\n",
    "boot_p_val=[]\n",
    "n_resamples = 40000\n",
    "for i in range(n_resamples):\n",
    "    boot_sample = A[np.random.choice(A.shape[0], A.shape[0], replace=True)] ### random sampling with replacement\n",
    "    boot_r_temp, boot_p_val_temp = pearsonr(boot_sample[:,0], boot_sample[:,1])\n",
    "    boot_r.append(boot_r_temp)\n",
    "    boot_p_val.append(boot_p_val_temp)\n",
    "    \n",
    "end = time.time()\n",
    "\n",
    "print(f\"The time to run the bootstrap for {n_resamples} number of samples was: {end-start} seconds\\n\")\n",
    "print(f\"The mean of this distribution is:{np.mean(boot_r)}\")\n"
   ]
  },
  {
   "cell_type": "code",
   "execution_count": 15,
   "id": "968e3ec4",
   "metadata": {},
   "outputs": [
    {
     "data": {
      "image/png": "[encoded data removed]",
      "text/plain": [
       "<Figure size 640x480 with 1 Axes>"
      ]
     },
     "metadata": {},
     "output_type": "display_data"
    }
   ],
   "source": [
    "plt.hist(boot_r, bins=1000)\n",
    "plt.show()"
   ]
  },
  {
   "cell_type": "markdown",
   "id": "692f9cea",
   "metadata": {},
   "source": [
    "# The distribution of the bootstrap r is shown below"
   ]
  },
  {
   "cell_type": "code",
   "execution_count": 16,
   "id": "aa05b975",
   "metadata": {},
   "outputs": [
    {
     "data": {
      "image/png": "[encoded data removed]",
      "text/plain": [
       "<Figure size 1200x1000 with 1 Axes>"
      ]
     },
     "metadata": {},
     "output_type": "display_data"
    }
   ],
   "source": [
    "sns.set(rc={\"figure.figsize\":(12,10)})\n",
    "sns.histplot(boot_r, binwidth=0.0013)\n",
    "plt.show()"
   ]
  },
  {
   "cell_type": "markdown",
   "id": "b0448cd6",
   "metadata": {},
   "source": [
    "# Deleting some points for faster computations"
   ]
  },
  {
   "cell_type": "markdown",
   "id": "359462d7",
   "metadata": {},
   "source": [
    "# Bootstrap for B=40000 for n=11 points"
   ]
  },
  {
   "cell_type": "code",
   "execution_count": 17,
   "id": "8ab17816",
   "metadata": {
    "scrolled": false
   },
   "outputs": [
    {
     "data": {
      "text/html": [
       "<div>\n",
       "<style scoped>\n",
       "    .dataframe tbody tr th:only-of-type {\n",
       "        vertical-align: middle;\n",
       "    }\n",
       "\n",
       "    .dataframe tbody tr th {\n",
       "        vertical-align: top;\n",
       "    }\n",
       "\n",
       "    .dataframe thead th {\n",
       "        text-align: right;\n",
       "    }\n",
       "</style>\n",
       "<table border=\"1\" class=\"dataframe\">\n",
       "  <thead>\n",
       "    <tr style=\"text-align: right;\">\n",
       "      <th></th>\n",
       "      <th>LSAT</th>\n",
       "      <th>GPA</th>\n",
       "    </tr>\n",
       "  </thead>\n",
       "  <tbody>\n",
       "    <tr>\n",
       "      <th>0</th>\n",
       "      <td>576</td>\n",
       "      <td>3.39</td>\n",
       "    </tr>\n",
       "    <tr>\n",
       "      <th>1</th>\n",
       "      <td>635</td>\n",
       "      <td>3.30</td>\n",
       "    </tr>\n",
       "    <tr>\n",
       "      <th>2</th>\n",
       "      <td>558</td>\n",
       "      <td>2.81</td>\n",
       "    </tr>\n",
       "    <tr>\n",
       "      <th>3</th>\n",
       "      <td>578</td>\n",
       "      <td>3.03</td>\n",
       "    </tr>\n",
       "    <tr>\n",
       "      <th>4</th>\n",
       "      <td>666</td>\n",
       "      <td>3.44</td>\n",
       "    </tr>\n",
       "    <tr>\n",
       "      <th>5</th>\n",
       "      <td>580</td>\n",
       "      <td>3.07</td>\n",
       "    </tr>\n",
       "    <tr>\n",
       "      <th>6</th>\n",
       "      <td>555</td>\n",
       "      <td>3.00</td>\n",
       "    </tr>\n",
       "    <tr>\n",
       "      <th>7</th>\n",
       "      <td>661</td>\n",
       "      <td>3.43</td>\n",
       "    </tr>\n",
       "    <tr>\n",
       "      <th>8</th>\n",
       "      <td>651</td>\n",
       "      <td>3.36</td>\n",
       "    </tr>\n",
       "    <tr>\n",
       "      <th>9</th>\n",
       "      <td>605</td>\n",
       "      <td>3.13</td>\n",
       "    </tr>\n",
       "    <tr>\n",
       "      <th>10</th>\n",
       "      <td>653</td>\n",
       "      <td>3.12</td>\n",
       "    </tr>\n",
       "    <tr>\n",
       "      <th>11</th>\n",
       "      <td>575</td>\n",
       "      <td>2.74</td>\n",
       "    </tr>\n",
       "    <tr>\n",
       "      <th>12</th>\n",
       "      <td>545</td>\n",
       "      <td>2.76</td>\n",
       "    </tr>\n",
       "    <tr>\n",
       "      <th>13</th>\n",
       "      <td>572</td>\n",
       "      <td>2.88</td>\n",
       "    </tr>\n",
       "    <tr>\n",
       "      <th>14</th>\n",
       "      <td>594</td>\n",
       "      <td>2.96</td>\n",
       "    </tr>\n",
       "  </tbody>\n",
       "</table>\n",
       "</div>"
      ],
      "text/plain": [
       "    LSAT   GPA\n",
       "0    576  3.39\n",
       "1    635  3.30\n",
       "2    558  2.81\n",
       "3    578  3.03\n",
       "4    666  3.44\n",
       "5    580  3.07\n",
       "6    555  3.00\n",
       "7    661  3.43\n",
       "8    651  3.36\n",
       "9    605  3.13\n",
       "10   653  3.12\n",
       "11   575  2.74\n",
       "12   545  2.76\n",
       "13   572  2.88\n",
       "14   594  2.96"
      ]
     },
     "execution_count": 17,
     "metadata": {},
     "output_type": "execute_result"
    }
   ],
   "source": [
    "df"
   ]
  },
  {
   "cell_type": "code",
   "execution_count": 18,
   "id": "2f8acb97",
   "metadata": {},
   "outputs": [],
   "source": [
    "df_t=df.drop([df.index[2], df.index[7],df.index[8], df.index[13]])"
   ]
  },
  {
   "cell_type": "code",
   "execution_count": 20,
   "id": "ff989e41",
   "metadata": {},
   "outputs": [
    {
     "data": {
      "text/html": [
       "<div>\n",
       "<style scoped>\n",
       "    .dataframe tbody tr th:only-of-type {\n",
       "        vertical-align: middle;\n",
       "    }\n",
       "\n",
       "    .dataframe tbody tr th {\n",
       "        vertical-align: top;\n",
       "    }\n",
       "\n",
       "    .dataframe thead th {\n",
       "        text-align: right;\n",
       "    }\n",
       "</style>\n",
       "<table border=\"1\" class=\"dataframe\">\n",
       "  <thead>\n",
       "    <tr style=\"text-align: right;\">\n",
       "      <th></th>\n",
       "      <th>LSAT</th>\n",
       "      <th>GPA</th>\n",
       "    </tr>\n",
       "  </thead>\n",
       "  <tbody>\n",
       "    <tr>\n",
       "      <th>0</th>\n",
       "      <td>576</td>\n",
       "      <td>3.39</td>\n",
       "    </tr>\n",
       "    <tr>\n",
       "      <th>1</th>\n",
       "      <td>635</td>\n",
       "      <td>3.30</td>\n",
       "    </tr>\n",
       "    <tr>\n",
       "      <th>3</th>\n",
       "      <td>578</td>\n",
       "      <td>3.03</td>\n",
       "    </tr>\n",
       "    <tr>\n",
       "      <th>4</th>\n",
       "      <td>666</td>\n",
       "      <td>3.44</td>\n",
       "    </tr>\n",
       "    <tr>\n",
       "      <th>5</th>\n",
       "      <td>580</td>\n",
       "      <td>3.07</td>\n",
       "    </tr>\n",
       "    <tr>\n",
       "      <th>6</th>\n",
       "      <td>555</td>\n",
       "      <td>3.00</td>\n",
       "    </tr>\n",
       "    <tr>\n",
       "      <th>9</th>\n",
       "      <td>605</td>\n",
       "      <td>3.13</td>\n",
       "    </tr>\n",
       "    <tr>\n",
       "      <th>10</th>\n",
       "      <td>653</td>\n",
       "      <td>3.12</td>\n",
       "    </tr>\n",
       "    <tr>\n",
       "      <th>11</th>\n",
       "      <td>575</td>\n",
       "      <td>2.74</td>\n",
       "    </tr>\n",
       "    <tr>\n",
       "      <th>12</th>\n",
       "      <td>545</td>\n",
       "      <td>2.76</td>\n",
       "    </tr>\n",
       "    <tr>\n",
       "      <th>14</th>\n",
       "      <td>594</td>\n",
       "      <td>2.96</td>\n",
       "    </tr>\n",
       "  </tbody>\n",
       "</table>\n",
       "</div>"
      ],
      "text/plain": [
       "    LSAT   GPA\n",
       "0    576  3.39\n",
       "1    635  3.30\n",
       "3    578  3.03\n",
       "4    666  3.44\n",
       "5    580  3.07\n",
       "6    555  3.00\n",
       "9    605  3.13\n",
       "10   653  3.12\n",
       "11   575  2.74\n",
       "12   545  2.76\n",
       "14   594  2.96"
      ]
     },
     "execution_count": 20,
     "metadata": {},
     "output_type": "execute_result"
    }
   ],
   "source": [
    "df_t ### contains 11 points, so 15 minus 4 highly correlated points in order to not change the distribution too much and also to see the effect of outliers in the end"
   ]
  },
  {
   "cell_type": "code",
   "execution_count": 21,
   "id": "b16aaafb",
   "metadata": {},
   "outputs": [
    {
     "name": "stdout",
     "output_type": "stream",
     "text": [
      "(11, 2)\n"
     ]
    }
   ],
   "source": [
    "A_11 = df_t.to_numpy()\n",
    "print(A_11.shape)"
   ]
  },
  {
   "cell_type": "code",
   "execution_count": 22,
   "id": "6a855c78",
   "metadata": {},
   "outputs": [
    {
     "name": "stdout",
     "output_type": "stream",
     "text": [
      "The time to run the bootstrap for 40000 number of samples was: 41.84997606277466 seconds \n"
     ]
    }
   ],
   "source": [
    "start = time.time()\n",
    "boot_r_11 = []\n",
    "boot_p_val_11=[]\n",
    "n_resamples = 40000\n",
    "for i in range(n_resamples):\n",
    "    boot_sample_11 = A_11[np.random.choice(A_11.shape[0], 11, replace=True)]\n",
    "    boot_r_temp_11, boot_p_val_temp_11 = pearsonr(boot_sample_11[:,0], boot_sample_11[:,1])\n",
    "    boot_r_11.append(boot_r_temp_11)\n",
    "    boot_p_val_11.append(boot_p_val_temp_11)\n",
    "    \n",
    "end = time.time()\n",
    "\n",
    "print(f\"The time to run the bootstrap for {n_resamples} number of samples was: {end-start} seconds \")\n",
    "# plt.hist(boot_r_11, bins=100)\n",
    "# plt.show()"
   ]
  },
  {
   "cell_type": "code",
   "execution_count": 23,
   "id": "0e073236",
   "metadata": {},
   "outputs": [
    {
     "data": {
      "image/png": "[encoded data removed]",
      "text/plain": [
       "<Figure size 1200x1000 with 1 Axes>"
      ]
     },
     "metadata": {},
     "output_type": "display_data"
    }
   ],
   "source": [
    "sns.set(rc={\"figure.figsize\":(12,10)})\n",
    "sns.histplot(boot_r_11, binwidth=0.0013)\n",
    "plt.show()"
   ]
  },
  {
   "cell_type": "code",
   "execution_count": 24,
   "id": "3f763760",
   "metadata": {},
   "outputs": [
    {
     "data": {
      "text/plain": [
       "0.637153876473469"
      ]
     },
     "execution_count": 24,
     "metadata": {},
     "output_type": "execute_result"
    }
   ],
   "source": [
    "np.nanmean(boot_r_11) ### np.nanmean since if some values are nan, the normal np.mean function produces an error "
   ]
  },
  {
   "cell_type": "markdown",
   "id": "60379439",
   "metadata": {},
   "source": [
    "# Complete Enumeration without Gray Codes for n=11 (for faster computations)\n",
    "## 4 highly correlated points were removed from the original 15 "
   ]
  },
  {
   "cell_type": "code",
   "execution_count": 25,
   "id": "ce17281e",
   "metadata": {},
   "outputs": [],
   "source": [
    "l = [0,1,2,3,4,5,6,7,8,9,10] ### indexes for our dataframe containing the n=11 points\n",
    "combinations = list(itertools.combinations_with_replacement(l,11)) ### all possible combinations with replacement of 11 points as indexes"
   ]
  },
  {
   "cell_type": "code",
   "execution_count": 26,
   "id": "f7b1b419",
   "metadata": {},
   "outputs": [],
   "source": [
    "df_copy = df_t.reset_index(drop=True)"
   ]
  },
  {
   "cell_type": "code",
   "execution_count": 27,
   "id": "102f65b5",
   "metadata": {},
   "outputs": [
    {
     "data": {
      "text/html": [
       "<div>\n",
       "<style scoped>\n",
       "    .dataframe tbody tr th:only-of-type {\n",
       "        vertical-align: middle;\n",
       "    }\n",
       "\n",
       "    .dataframe tbody tr th {\n",
       "        vertical-align: top;\n",
       "    }\n",
       "\n",
       "    .dataframe thead th {\n",
       "        text-align: right;\n",
       "    }\n",
       "</style>\n",
       "<table border=\"1\" class=\"dataframe\">\n",
       "  <thead>\n",
       "    <tr style=\"text-align: right;\">\n",
       "      <th></th>\n",
       "      <th>LSAT</th>\n",
       "      <th>GPA</th>\n",
       "    </tr>\n",
       "  </thead>\n",
       "  <tbody>\n",
       "    <tr>\n",
       "      <th>0</th>\n",
       "      <td>576</td>\n",
       "      <td>3.39</td>\n",
       "    </tr>\n",
       "    <tr>\n",
       "      <th>1</th>\n",
       "      <td>635</td>\n",
       "      <td>3.30</td>\n",
       "    </tr>\n",
       "    <tr>\n",
       "      <th>2</th>\n",
       "      <td>578</td>\n",
       "      <td>3.03</td>\n",
       "    </tr>\n",
       "    <tr>\n",
       "      <th>3</th>\n",
       "      <td>666</td>\n",
       "      <td>3.44</td>\n",
       "    </tr>\n",
       "    <tr>\n",
       "      <th>4</th>\n",
       "      <td>580</td>\n",
       "      <td>3.07</td>\n",
       "    </tr>\n",
       "    <tr>\n",
       "      <th>5</th>\n",
       "      <td>555</td>\n",
       "      <td>3.00</td>\n",
       "    </tr>\n",
       "    <tr>\n",
       "      <th>6</th>\n",
       "      <td>605</td>\n",
       "      <td>3.13</td>\n",
       "    </tr>\n",
       "    <tr>\n",
       "      <th>7</th>\n",
       "      <td>653</td>\n",
       "      <td>3.12</td>\n",
       "    </tr>\n",
       "    <tr>\n",
       "      <th>8</th>\n",
       "      <td>575</td>\n",
       "      <td>2.74</td>\n",
       "    </tr>\n",
       "    <tr>\n",
       "      <th>9</th>\n",
       "      <td>545</td>\n",
       "      <td>2.76</td>\n",
       "    </tr>\n",
       "    <tr>\n",
       "      <th>10</th>\n",
       "      <td>594</td>\n",
       "      <td>2.96</td>\n",
       "    </tr>\n",
       "  </tbody>\n",
       "</table>\n",
       "</div>"
      ],
      "text/plain": [
       "    LSAT   GPA\n",
       "0    576  3.39\n",
       "1    635  3.30\n",
       "2    578  3.03\n",
       "3    666  3.44\n",
       "4    580  3.07\n",
       "5    555  3.00\n",
       "6    605  3.13\n",
       "7    653  3.12\n",
       "8    575  2.74\n",
       "9    545  2.76\n",
       "10   594  2.96"
      ]
     },
     "execution_count": 27,
     "metadata": {},
     "output_type": "execute_result"
    }
   ],
   "source": [
    "df_copy"
   ]
  },
  {
   "cell_type": "code",
   "execution_count": 28,
   "id": "02d7db5b",
   "metadata": {},
   "outputs": [
    {
     "data": {
      "text/plain": [
       "list"
      ]
     },
     "execution_count": 28,
     "metadata": {},
     "output_type": "execute_result"
    }
   ],
   "source": [
    "type(list(combinations[5698]))"
   ]
  },
  {
   "cell_type": "code",
   "execution_count": 29,
   "id": "c3d39871",
   "metadata": {},
   "outputs": [
    {
     "name": "stdout",
     "output_type": "stream",
     "text": [
      "[0, 0, 0, 0, 0, 0, 0, 0, 0, 0, 0]\n"
     ]
    },
    {
     "data": {
      "text/html": [
       "<div>\n",
       "<style scoped>\n",
       "    .dataframe tbody tr th:only-of-type {\n",
       "        vertical-align: middle;\n",
       "    }\n",
       "\n",
       "    .dataframe tbody tr th {\n",
       "        vertical-align: top;\n",
       "    }\n",
       "\n",
       "    .dataframe thead th {\n",
       "        text-align: right;\n",
       "    }\n",
       "</style>\n",
       "<table border=\"1\" class=\"dataframe\">\n",
       "  <thead>\n",
       "    <tr style=\"text-align: right;\">\n",
       "      <th></th>\n",
       "      <th>LSAT</th>\n",
       "      <th>GPA</th>\n",
       "    </tr>\n",
       "  </thead>\n",
       "  <tbody>\n",
       "    <tr>\n",
       "      <th>0</th>\n",
       "      <td>576</td>\n",
       "      <td>3.39</td>\n",
       "    </tr>\n",
       "    <tr>\n",
       "      <th>0</th>\n",
       "      <td>576</td>\n",
       "      <td>3.39</td>\n",
       "    </tr>\n",
       "    <tr>\n",
       "      <th>0</th>\n",
       "      <td>576</td>\n",
       "      <td>3.39</td>\n",
       "    </tr>\n",
       "    <tr>\n",
       "      <th>0</th>\n",
       "      <td>576</td>\n",
       "      <td>3.39</td>\n",
       "    </tr>\n",
       "    <tr>\n",
       "      <th>0</th>\n",
       "      <td>576</td>\n",
       "      <td>3.39</td>\n",
       "    </tr>\n",
       "    <tr>\n",
       "      <th>0</th>\n",
       "      <td>576</td>\n",
       "      <td>3.39</td>\n",
       "    </tr>\n",
       "    <tr>\n",
       "      <th>0</th>\n",
       "      <td>576</td>\n",
       "      <td>3.39</td>\n",
       "    </tr>\n",
       "    <tr>\n",
       "      <th>0</th>\n",
       "      <td>576</td>\n",
       "      <td>3.39</td>\n",
       "    </tr>\n",
       "    <tr>\n",
       "      <th>0</th>\n",
       "      <td>576</td>\n",
       "      <td>3.39</td>\n",
       "    </tr>\n",
       "    <tr>\n",
       "      <th>0</th>\n",
       "      <td>576</td>\n",
       "      <td>3.39</td>\n",
       "    </tr>\n",
       "    <tr>\n",
       "      <th>0</th>\n",
       "      <td>576</td>\n",
       "      <td>3.39</td>\n",
       "    </tr>\n",
       "  </tbody>\n",
       "</table>\n",
       "</div>"
      ],
      "text/plain": [
       "   LSAT   GPA\n",
       "0   576  3.39\n",
       "0   576  3.39\n",
       "0   576  3.39\n",
       "0   576  3.39\n",
       "0   576  3.39\n",
       "0   576  3.39\n",
       "0   576  3.39\n",
       "0   576  3.39\n",
       "0   576  3.39\n",
       "0   576  3.39\n",
       "0   576  3.39"
      ]
     },
     "execution_count": 29,
     "metadata": {},
     "output_type": "execute_result"
    }
   ],
   "source": [
    "ls = list(combinations[0])\n",
    "print(ls)\n",
    "sample = df_copy.iloc[ls]\n",
    "sample ### for example the first sample contains only the first datapoint (index 0 ) 11 times"
   ]
  },
  {
   "cell_type": "code",
   "execution_count": 30,
   "id": "3f3b7be7",
   "metadata": {},
   "outputs": [
    {
     "data": {
      "text/plain": [
       "352716"
      ]
     },
     "execution_count": 30,
     "metadata": {},
     "output_type": "execute_result"
    }
   ],
   "source": [
    "len(combinations) ### how many possible combinations with replacement there are for n=11. \n",
    "### For sanity check on n=11: (2n-1)C(n-1) 21C10=352716"
   ]
  },
  {
   "cell_type": "code",
   "execution_count": 31,
   "id": "fce26d2c",
   "metadata": {},
   "outputs": [
    {
     "data": {
      "text/plain": [
       "numpy.ndarray"
      ]
     },
     "execution_count": 31,
     "metadata": {},
     "output_type": "execute_result"
    }
   ],
   "source": [
    "index = np.arange(len(combinations))\n",
    "type(index)"
   ]
  },
  {
   "cell_type": "code",
   "execution_count": 32,
   "id": "e07fe279",
   "metadata": {},
   "outputs": [
    {
     "name": "stdout",
     "output_type": "stream",
     "text": [
      "<class 'list'>\n"
     ]
    }
   ],
   "source": [
    "index = index.tolist()\n",
    "print(type(index))"
   ]
  },
  {
   "cell_type": "code",
   "execution_count": 33,
   "id": "ca86920b",
   "metadata": {},
   "outputs": [
    {
     "name": "stderr",
     "output_type": "stream",
     "text": [
      "C:\\Users\\Uni\\anaconda3\\lib\\site-packages\\scipy\\stats\\_stats_py.py:4424: ConstantInputWarning: An input array is constant; the correlation coefficient is not defined.\n",
      "  warnings.warn(stats.ConstantInputWarning(msg))\n"
     ]
    },
    {
     "name": "stdout",
     "output_type": "stream",
     "text": [
      "0\n",
      "10000\n",
      "20000\n",
      "30000\n",
      "40000\n",
      "50000\n",
      "60000\n",
      "70000\n",
      "80000\n",
      "90000\n",
      "100000\n",
      "110000\n",
      "120000\n",
      "130000\n",
      "140000\n",
      "150000\n",
      "160000\n",
      "170000\n",
      "180000\n",
      "190000\n",
      "200000\n",
      "210000\n",
      "220000\n",
      "230000\n",
      "240000\n",
      "250000\n",
      "260000\n",
      "270000\n",
      "280000\n",
      "290000\n",
      "300000\n",
      "310000\n",
      "320000\n",
      "330000\n",
      "340000\n",
      "350000\n",
      "501.3257758617401\n"
     ]
    }
   ],
   "source": [
    "start = time.time()\n",
    "\n",
    "complete_r = []\n",
    "\n",
    "for k, i in zip(combinations, index):\n",
    "    ls = list(k)\n",
    "    sample = df_copy.iloc[ls].to_numpy()\n",
    "    temp_r, _ = pearsonr(sample[:,0], sample[:,1])\n",
    "    complete_r.append(temp_r) \n",
    "    if (i%10000 ==0): ### print every 10000 samples to see progress\n",
    "        print(i)\n",
    "                    \n",
    "\n",
    "end = time.time()\n",
    "\n",
    "print(end-start) ### seconds to run this cell (usually 570 seconds)"
   ]
  },
  {
   "cell_type": "markdown",
   "id": "f333ed92",
   "metadata": {},
   "source": [
    "# Histogram for the full enumeration on n=11 points"
   ]
  },
  {
   "cell_type": "code",
   "execution_count": 36,
   "id": "1fc99c91",
   "metadata": {},
   "outputs": [
    {
     "data": {
      "image/png": "[encoded data removed]",
      "text/plain": [
       "<Figure size 1200x1000 with 1 Axes>"
      ]
     },
     "metadata": {},
     "output_type": "display_data"
    }
   ],
   "source": [
    "sns.set(rc={\"figure.figsize\":(12,10)})\n",
    "sns.histplot(complete_r, binwidth=0.0013)\n",
    "plt.show()"
   ]
  },
  {
   "cell_type": "code",
   "execution_count": 38,
   "id": "1fdbd92d",
   "metadata": {
    "scrolled": true
   },
   "outputs": [
    {
     "data": {
      "text/plain": [
       "0.6276445329347745"
      ]
     },
     "execution_count": 38,
     "metadata": {},
     "output_type": "execute_result"
    }
   ],
   "source": [
    "np.nanmean(complete_r) ### again we calculate the nanmean instead of the mean, because when all data are the same point in a sample, the function returns nan"
   ]
  },
  {
   "cell_type": "markdown",
   "id": "786dd5e0",
   "metadata": {},
   "source": [
    "# Monte Carlo with manual distribution for picking original 11 points (pick the 2 outliers with 0 probability)"
   ]
  },
  {
   "cell_type": "code",
   "execution_count": 39,
   "id": "8401f7dd",
   "metadata": {},
   "outputs": [
    {
     "name": "stdout",
     "output_type": "stream",
     "text": [
      "11\n"
     ]
    },
    {
     "data": {
      "text/plain": [
       "1.0"
      ]
     },
     "execution_count": 39,
     "metadata": {},
     "output_type": "execute_result"
    }
   ],
   "source": [
    "### probability vector of picking points\n",
    "\n",
    "prob_in = 1/9 ###probability of picking one of 9 inliers\n",
    "prob_out =  0 ### probability of picking one of 2 outliers\n",
    "p = [prob_out, prob_in, prob_in, prob_in, prob_in, prob_in, prob_in, prob_out, prob_in, prob_in, prob_in]\n",
    "\n",
    "print(len(p))\n",
    "\n",
    "np.sum(p) ### sum of probablities of all points has to be 1"
   ]
  },
  {
   "cell_type": "code",
   "execution_count": 40,
   "id": "50383e62",
   "metadata": {},
   "outputs": [],
   "source": [
    "# fig = plt.figure()\n",
    "# ax = fig.add_subplot(111)\n",
    "# x = df_monte['LSAT']\n",
    "# y = df_monte['GPA']\n",
    "# ax.scatter(x, y)\n",
    "# for xy in zip(x, y):\n",
    "#     plt.annotate('(%.2f, %.2f)' % xy, xy=xy)\n",
    "# plt.show()"
   ]
  },
  {
   "cell_type": "code",
   "execution_count": 41,
   "id": "57cec6d0",
   "metadata": {},
   "outputs": [],
   "source": [
    "A_monte = df_copy.to_numpy()"
   ]
  },
  {
   "cell_type": "code",
   "execution_count": 42,
   "id": "316cba8d",
   "metadata": {},
   "outputs": [
    {
     "name": "stdout",
     "output_type": "stream",
     "text": [
      "The time to run the Monte Carlo simulation for 40000 number of samples with the manual probability distribution was:\n",
      " 43.901071310043335 seconds \n"
     ]
    }
   ],
   "source": [
    "start = time.time()\n",
    "monte_r = []\n",
    "monte_p_val=[]\n",
    "n_resamples = 40000\n",
    "for i in range(n_resamples):\n",
    "    monte_sample = A_monte[np.random.choice(A_monte.shape[0], 11, replace=True, p=p)]\n",
    "    monte_r_temp, monte_p_val_temp = pearsonr(monte_sample[:,0], monte_sample[:,1])\n",
    "    monte_r.append(monte_r_temp)\n",
    "    monte_p_val.append(monte_p_val_temp)\n",
    "    \n",
    "end = time.time()\n",
    "\n",
    "print(f\"The time to run the Monte Carlo simulation for {n_resamples} number of samples with the manual probability distribution was:\\n {end-start} seconds \")\n"
   ]
  },
  {
   "cell_type": "code",
   "execution_count": 43,
   "id": "c4fc0fe7",
   "metadata": {},
   "outputs": [
    {
     "data": {
      "image/png": "[encoded data removed]",
      "text/plain": [
       "<Figure size 1200x1000 with 1 Axes>"
      ]
     },
     "metadata": {},
     "output_type": "display_data"
    }
   ],
   "source": [
    "sns.histplot(monte_r, binwidth=0.0013)\n",
    "plt.show()"
   ]
  },
  {
   "cell_type": "code",
   "execution_count": 44,
   "id": "238a497a",
   "metadata": {},
   "outputs": [
    {
     "data": {
      "text/plain": [
       "0.8620936046945146"
      ]
     },
     "execution_count": 44,
     "metadata": {},
     "output_type": "execute_result"
    }
   ],
   "source": [
    "np.mean(monte_r) ### mean of distribution is increased when the outliers are not sampled, as was expected"
   ]
  },
  {
   "cell_type": "markdown",
   "id": "52507e62",
   "metadata": {},
   "source": [
    "# Monte Carlo with manual distribution for picking original 11 points (pick the 2 outliers with probability 0.05 and inliers with probability 0.1)"
   ]
  },
  {
   "cell_type": "code",
   "execution_count": 45,
   "id": "a87ffbbb",
   "metadata": {},
   "outputs": [
    {
     "name": "stdout",
     "output_type": "stream",
     "text": [
      "11\n"
     ]
    },
    {
     "data": {
      "text/plain": [
       "1.0"
      ]
     },
     "execution_count": 45,
     "metadata": {},
     "output_type": "execute_result"
    }
   ],
   "source": [
    "### probability vector of picking points\n",
    "\n",
    "prob_in_2 = 0.1 ###probability of picking one of 9 inliers\n",
    "prob_out_2 = 0.05 ### probability of picking one of 2 outliers\n",
    "p_2 = [prob_out_2, prob_in_2, prob_in_2, prob_in_2, prob_in_2, prob_in_2, prob_in_2, prob_out_2, prob_in_2, prob_in_2, prob_in_2]\n",
    "\n",
    "print(len(p_2))\n",
    "\n",
    "np.sum(p_2) ### sum of probablities of all points has to be 1"
   ]
  },
  {
   "cell_type": "code",
   "execution_count": 46,
   "id": "e501744f",
   "metadata": {},
   "outputs": [],
   "source": [
    "# fig = plt.figure()\n",
    "# ax = fig.add_subplot(111)\n",
    "# x = df_monte['LSAT']\n",
    "# y = df_monte['GPA']\n",
    "# ax.scatter(x, y)\n",
    "# for xy in zip(x, y):\n",
    "#     plt.annotate('(%.2f, %.2f)' % xy, xy=xy)\n",
    "# plt.show()"
   ]
  },
  {
   "cell_type": "code",
   "execution_count": 47,
   "id": "edfb9714",
   "metadata": {},
   "outputs": [],
   "source": [
    "A_monte_2 = df_copy.to_numpy()"
   ]
  },
  {
   "cell_type": "code",
   "execution_count": 48,
   "id": "03574c14",
   "metadata": {},
   "outputs": [
    {
     "name": "stdout",
     "output_type": "stream",
     "text": [
      "The time to run the Monte Carlo simulation for 40000 number of samples with the manual probability distribution was:\n",
      " 44.14205312728882 seconds \n"
     ]
    }
   ],
   "source": [
    "start = time.time()\n",
    "monte_r_2 = []\n",
    "monte_p_val_2=[]\n",
    "n_resamples = 40000\n",
    "for i in range(n_resamples):\n",
    "    monte_sample_2 = A_monte_2[np.random.choice(A_monte_2.shape[0], 11, replace=True, p=p_2)]\n",
    "    monte_r_temp_2, monte_p_val_temp_2 = pearsonr(monte_sample_2[:,0], monte_sample_2[:,1])\n",
    "    monte_r_2.append(monte_r_temp_2)\n",
    "    monte_p_val_2.append(monte_p_val_temp_2)\n",
    "    \n",
    "end = time.time()\n",
    "\n",
    "print(f\"The time to run the Monte Carlo simulation for {n_resamples} number of samples with the manual probability distribution was:\\n {end-start} seconds \")\n"
   ]
  },
  {
   "cell_type": "code",
   "execution_count": 49,
   "id": "03704194",
   "metadata": {},
   "outputs": [
    {
     "data": {
      "image/png": "[encoded data removed]",
      "text/plain": [
       "<Figure size 1200x1000 with 1 Axes>"
      ]
     },
     "metadata": {},
     "output_type": "display_data"
    }
   ],
   "source": [
    "sns.histplot(monte_r_2, binwidth=0.0013)\n",
    "plt.show()"
   ]
  },
  {
   "cell_type": "code",
   "execution_count": 50,
   "id": "89d9eb19",
   "metadata": {},
   "outputs": [
    {
     "data": {
      "text/plain": [
       "0.7396940184977582"
      ]
     },
     "execution_count": 50,
     "metadata": {},
     "output_type": "execute_result"
    }
   ],
   "source": [
    "np.mean(monte_r_2) ### mean of distribution is increased when the outliers are less probable to be sampled in each sample"
   ]
  },
  {
   "cell_type": "markdown",
   "id": "3cfd33ee",
   "metadata": {},
   "source": [
    "### The mean of the distribution is higher when the outliers have p=0 to be sampled than when they are sampled with less probability. This is of course expected since they are outliers"
   ]
  },
  {
   "cell_type": "markdown",
   "id": "269ba7fa",
   "metadata": {},
   "source": [
    "# Bootstrap complete enumeration if we remove the 2 outliers from the n=11 dataset (so bootstrap complete enumeration for 9 points)"
   ]
  },
  {
   "cell_type": "code",
   "execution_count": 51,
   "id": "0793f9f7",
   "metadata": {},
   "outputs": [
    {
     "data": {
      "text/html": [
       "<div>\n",
       "<style scoped>\n",
       "    .dataframe tbody tr th:only-of-type {\n",
       "        vertical-align: middle;\n",
       "    }\n",
       "\n",
       "    .dataframe tbody tr th {\n",
       "        vertical-align: top;\n",
       "    }\n",
       "\n",
       "    .dataframe thead th {\n",
       "        text-align: right;\n",
       "    }\n",
       "</style>\n",
       "<table border=\"1\" class=\"dataframe\">\n",
       "  <thead>\n",
       "    <tr style=\"text-align: right;\">\n",
       "      <th></th>\n",
       "      <th>LSAT</th>\n",
       "      <th>GPA</th>\n",
       "    </tr>\n",
       "  </thead>\n",
       "  <tbody>\n",
       "    <tr>\n",
       "      <th>0</th>\n",
       "      <td>576</td>\n",
       "      <td>3.39</td>\n",
       "    </tr>\n",
       "    <tr>\n",
       "      <th>1</th>\n",
       "      <td>635</td>\n",
       "      <td>3.30</td>\n",
       "    </tr>\n",
       "    <tr>\n",
       "      <th>3</th>\n",
       "      <td>578</td>\n",
       "      <td>3.03</td>\n",
       "    </tr>\n",
       "    <tr>\n",
       "      <th>4</th>\n",
       "      <td>666</td>\n",
       "      <td>3.44</td>\n",
       "    </tr>\n",
       "    <tr>\n",
       "      <th>5</th>\n",
       "      <td>580</td>\n",
       "      <td>3.07</td>\n",
       "    </tr>\n",
       "    <tr>\n",
       "      <th>6</th>\n",
       "      <td>555</td>\n",
       "      <td>3.00</td>\n",
       "    </tr>\n",
       "    <tr>\n",
       "      <th>9</th>\n",
       "      <td>605</td>\n",
       "      <td>3.13</td>\n",
       "    </tr>\n",
       "    <tr>\n",
       "      <th>10</th>\n",
       "      <td>653</td>\n",
       "      <td>3.12</td>\n",
       "    </tr>\n",
       "    <tr>\n",
       "      <th>11</th>\n",
       "      <td>575</td>\n",
       "      <td>2.74</td>\n",
       "    </tr>\n",
       "    <tr>\n",
       "      <th>12</th>\n",
       "      <td>545</td>\n",
       "      <td>2.76</td>\n",
       "    </tr>\n",
       "    <tr>\n",
       "      <th>14</th>\n",
       "      <td>594</td>\n",
       "      <td>2.96</td>\n",
       "    </tr>\n",
       "  </tbody>\n",
       "</table>\n",
       "</div>"
      ],
      "text/plain": [
       "    LSAT   GPA\n",
       "0    576  3.39\n",
       "1    635  3.30\n",
       "3    578  3.03\n",
       "4    666  3.44\n",
       "5    580  3.07\n",
       "6    555  3.00\n",
       "9    605  3.13\n",
       "10   653  3.12\n",
       "11   575  2.74\n",
       "12   545  2.76\n",
       "14   594  2.96"
      ]
     },
     "execution_count": 51,
     "metadata": {},
     "output_type": "execute_result"
    }
   ],
   "source": [
    "df_t"
   ]
  },
  {
   "cell_type": "code",
   "execution_count": 52,
   "id": "af8e1997",
   "metadata": {},
   "outputs": [],
   "source": [
    "df_t_9=df_t.drop([df_t.index[0], df_t.index[7]])"
   ]
  },
  {
   "cell_type": "code",
   "execution_count": 53,
   "id": "05362b65",
   "metadata": {},
   "outputs": [
    {
     "data": {
      "text/html": [
       "<div>\n",
       "<style scoped>\n",
       "    .dataframe tbody tr th:only-of-type {\n",
       "        vertical-align: middle;\n",
       "    }\n",
       "\n",
       "    .dataframe tbody tr th {\n",
       "        vertical-align: top;\n",
       "    }\n",
       "\n",
       "    .dataframe thead th {\n",
       "        text-align: right;\n",
       "    }\n",
       "</style>\n",
       "<table border=\"1\" class=\"dataframe\">\n",
       "  <thead>\n",
       "    <tr style=\"text-align: right;\">\n",
       "      <th></th>\n",
       "      <th>LSAT</th>\n",
       "      <th>GPA</th>\n",
       "    </tr>\n",
       "  </thead>\n",
       "  <tbody>\n",
       "    <tr>\n",
       "      <th>1</th>\n",
       "      <td>635</td>\n",
       "      <td>3.30</td>\n",
       "    </tr>\n",
       "    <tr>\n",
       "      <th>3</th>\n",
       "      <td>578</td>\n",
       "      <td>3.03</td>\n",
       "    </tr>\n",
       "    <tr>\n",
       "      <th>4</th>\n",
       "      <td>666</td>\n",
       "      <td>3.44</td>\n",
       "    </tr>\n",
       "    <tr>\n",
       "      <th>5</th>\n",
       "      <td>580</td>\n",
       "      <td>3.07</td>\n",
       "    </tr>\n",
       "    <tr>\n",
       "      <th>6</th>\n",
       "      <td>555</td>\n",
       "      <td>3.00</td>\n",
       "    </tr>\n",
       "    <tr>\n",
       "      <th>9</th>\n",
       "      <td>605</td>\n",
       "      <td>3.13</td>\n",
       "    </tr>\n",
       "    <tr>\n",
       "      <th>11</th>\n",
       "      <td>575</td>\n",
       "      <td>2.74</td>\n",
       "    </tr>\n",
       "    <tr>\n",
       "      <th>12</th>\n",
       "      <td>545</td>\n",
       "      <td>2.76</td>\n",
       "    </tr>\n",
       "    <tr>\n",
       "      <th>14</th>\n",
       "      <td>594</td>\n",
       "      <td>2.96</td>\n",
       "    </tr>\n",
       "  </tbody>\n",
       "</table>\n",
       "</div>"
      ],
      "text/plain": [
       "    LSAT   GPA\n",
       "1    635  3.30\n",
       "3    578  3.03\n",
       "4    666  3.44\n",
       "5    580  3.07\n",
       "6    555  3.00\n",
       "9    605  3.13\n",
       "11   575  2.74\n",
       "12   545  2.76\n",
       "14   594  2.96"
      ]
     },
     "execution_count": 53,
     "metadata": {},
     "output_type": "execute_result"
    }
   ],
   "source": [
    "df_t_9 "
   ]
  },
  {
   "cell_type": "code",
   "execution_count": 54,
   "id": "5c724b48",
   "metadata": {},
   "outputs": [
    {
     "data": {
      "text/plain": [
       "<matplotlib.collections.PathCollection at 0x1c538ce49d0>"
      ]
     },
     "execution_count": 54,
     "metadata": {},
     "output_type": "execute_result"
    },
    {
     "data": {
      "image/png": "[encoded data removed]",
      "text/plain": [
       "<Figure size 1200x1000 with 1 Axes>"
      ]
     },
     "metadata": {},
     "output_type": "display_data"
    }
   ],
   "source": [
    "plt.scatter(df_t_9['LSAT'],df_t_9['GPA'])"
   ]
  },
  {
   "cell_type": "code",
   "execution_count": 55,
   "id": "c81e1ce3",
   "metadata": {},
   "outputs": [],
   "source": [
    "df_t_9 = df_t_9.reset_index(drop=True)"
   ]
  },
  {
   "cell_type": "code",
   "execution_count": 56,
   "id": "90c9c434",
   "metadata": {},
   "outputs": [
    {
     "data": {
      "text/html": [
       "<div>\n",
       "<style scoped>\n",
       "    .dataframe tbody tr th:only-of-type {\n",
       "        vertical-align: middle;\n",
       "    }\n",
       "\n",
       "    .dataframe tbody tr th {\n",
       "        vertical-align: top;\n",
       "    }\n",
       "\n",
       "    .dataframe thead th {\n",
       "        text-align: right;\n",
       "    }\n",
       "</style>\n",
       "<table border=\"1\" class=\"dataframe\">\n",
       "  <thead>\n",
       "    <tr style=\"text-align: right;\">\n",
       "      <th></th>\n",
       "      <th>LSAT</th>\n",
       "      <th>GPA</th>\n",
       "    </tr>\n",
       "  </thead>\n",
       "  <tbody>\n",
       "    <tr>\n",
       "      <th>0</th>\n",
       "      <td>635</td>\n",
       "      <td>3.30</td>\n",
       "    </tr>\n",
       "    <tr>\n",
       "      <th>1</th>\n",
       "      <td>578</td>\n",
       "      <td>3.03</td>\n",
       "    </tr>\n",
       "    <tr>\n",
       "      <th>2</th>\n",
       "      <td>666</td>\n",
       "      <td>3.44</td>\n",
       "    </tr>\n",
       "    <tr>\n",
       "      <th>3</th>\n",
       "      <td>580</td>\n",
       "      <td>3.07</td>\n",
       "    </tr>\n",
       "    <tr>\n",
       "      <th>4</th>\n",
       "      <td>555</td>\n",
       "      <td>3.00</td>\n",
       "    </tr>\n",
       "    <tr>\n",
       "      <th>5</th>\n",
       "      <td>605</td>\n",
       "      <td>3.13</td>\n",
       "    </tr>\n",
       "    <tr>\n",
       "      <th>6</th>\n",
       "      <td>575</td>\n",
       "      <td>2.74</td>\n",
       "    </tr>\n",
       "    <tr>\n",
       "      <th>7</th>\n",
       "      <td>545</td>\n",
       "      <td>2.76</td>\n",
       "    </tr>\n",
       "    <tr>\n",
       "      <th>8</th>\n",
       "      <td>594</td>\n",
       "      <td>2.96</td>\n",
       "    </tr>\n",
       "  </tbody>\n",
       "</table>\n",
       "</div>"
      ],
      "text/plain": [
       "   LSAT   GPA\n",
       "0   635  3.30\n",
       "1   578  3.03\n",
       "2   666  3.44\n",
       "3   580  3.07\n",
       "4   555  3.00\n",
       "5   605  3.13\n",
       "6   575  2.74\n",
       "7   545  2.76\n",
       "8   594  2.96"
      ]
     },
     "execution_count": 56,
     "metadata": {},
     "output_type": "execute_result"
    }
   ],
   "source": [
    "df_t_9"
   ]
  },
  {
   "cell_type": "code",
   "execution_count": 57,
   "id": "2cce12b6",
   "metadata": {},
   "outputs": [],
   "source": [
    "l_9 = [0,1,2,3,4,5,6,7,8]\n",
    "combinations_9 = list(itertools.combinations_with_replacement(l_9,9))"
   ]
  },
  {
   "cell_type": "code",
   "execution_count": 58,
   "id": "c83a8bf4",
   "metadata": {},
   "outputs": [
    {
     "data": {
      "text/plain": [
       "list"
      ]
     },
     "execution_count": 58,
     "metadata": {},
     "output_type": "execute_result"
    }
   ],
   "source": [
    "type(list(combinations_9[5698]))"
   ]
  },
  {
   "cell_type": "code",
   "execution_count": 59,
   "id": "dc05383e",
   "metadata": {},
   "outputs": [
    {
     "name": "stdout",
     "output_type": "stream",
     "text": [
      "[0, 0, 0, 0, 0, 0, 0, 0, 0]\n"
     ]
    },
    {
     "data": {
      "text/html": [
       "<div>\n",
       "<style scoped>\n",
       "    .dataframe tbody tr th:only-of-type {\n",
       "        vertical-align: middle;\n",
       "    }\n",
       "\n",
       "    .dataframe tbody tr th {\n",
       "        vertical-align: top;\n",
       "    }\n",
       "\n",
       "    .dataframe thead th {\n",
       "        text-align: right;\n",
       "    }\n",
       "</style>\n",
       "<table border=\"1\" class=\"dataframe\">\n",
       "  <thead>\n",
       "    <tr style=\"text-align: right;\">\n",
       "      <th></th>\n",
       "      <th>LSAT</th>\n",
       "      <th>GPA</th>\n",
       "    </tr>\n",
       "  </thead>\n",
       "  <tbody>\n",
       "    <tr>\n",
       "      <th>0</th>\n",
       "      <td>635</td>\n",
       "      <td>3.3</td>\n",
       "    </tr>\n",
       "    <tr>\n",
       "      <th>0</th>\n",
       "      <td>635</td>\n",
       "      <td>3.3</td>\n",
       "    </tr>\n",
       "    <tr>\n",
       "      <th>0</th>\n",
       "      <td>635</td>\n",
       "      <td>3.3</td>\n",
       "    </tr>\n",
       "    <tr>\n",
       "      <th>0</th>\n",
       "      <td>635</td>\n",
       "      <td>3.3</td>\n",
       "    </tr>\n",
       "    <tr>\n",
       "      <th>0</th>\n",
       "      <td>635</td>\n",
       "      <td>3.3</td>\n",
       "    </tr>\n",
       "    <tr>\n",
       "      <th>0</th>\n",
       "      <td>635</td>\n",
       "      <td>3.3</td>\n",
       "    </tr>\n",
       "    <tr>\n",
       "      <th>0</th>\n",
       "      <td>635</td>\n",
       "      <td>3.3</td>\n",
       "    </tr>\n",
       "    <tr>\n",
       "      <th>0</th>\n",
       "      <td>635</td>\n",
       "      <td>3.3</td>\n",
       "    </tr>\n",
       "    <tr>\n",
       "      <th>0</th>\n",
       "      <td>635</td>\n",
       "      <td>3.3</td>\n",
       "    </tr>\n",
       "  </tbody>\n",
       "</table>\n",
       "</div>"
      ],
      "text/plain": [
       "   LSAT  GPA\n",
       "0   635  3.3\n",
       "0   635  3.3\n",
       "0   635  3.3\n",
       "0   635  3.3\n",
       "0   635  3.3\n",
       "0   635  3.3\n",
       "0   635  3.3\n",
       "0   635  3.3\n",
       "0   635  3.3"
      ]
     },
     "execution_count": 59,
     "metadata": {},
     "output_type": "execute_result"
    }
   ],
   "source": [
    "ls_9 = list(combinations_9[0])\n",
    "print(ls_9)\n",
    "sample_9 = df_t_9.iloc[ls_9]\n",
    "sample_9"
   ]
  },
  {
   "cell_type": "code",
   "execution_count": 60,
   "id": "f9f37188",
   "metadata": {},
   "outputs": [
    {
     "data": {
      "text/plain": [
       "24310"
      ]
     },
     "execution_count": 60,
     "metadata": {},
     "output_type": "execute_result"
    }
   ],
   "source": [
    "len(combinations_9) ### sanity check for n=9: (2n-1)C(n-1) = 17C8 = 24310"
   ]
  },
  {
   "cell_type": "code",
   "execution_count": 61,
   "id": "669617e8",
   "metadata": {},
   "outputs": [
    {
     "data": {
      "text/plain": [
       "numpy.ndarray"
      ]
     },
     "execution_count": 61,
     "metadata": {},
     "output_type": "execute_result"
    }
   ],
   "source": [
    "index_9 = np.arange(len(combinations_9))\n",
    "type(index_9)"
   ]
  },
  {
   "cell_type": "code",
   "execution_count": 62,
   "id": "0c1a58a1",
   "metadata": {},
   "outputs": [
    {
     "name": "stdout",
     "output_type": "stream",
     "text": [
      "<class 'list'>\n"
     ]
    }
   ],
   "source": [
    "index_9 = index_9.tolist()\n",
    "print(type(index_9))"
   ]
  },
  {
   "cell_type": "code",
   "execution_count": 63,
   "id": "52c8e0d3",
   "metadata": {},
   "outputs": [
    {
     "name": "stderr",
     "output_type": "stream",
     "text": [
      "C:\\Users\\Uni\\anaconda3\\lib\\site-packages\\scipy\\stats\\_stats_py.py:4424: ConstantInputWarning: An input array is constant; the correlation coefficient is not defined.\n",
      "  warnings.warn(stats.ConstantInputWarning(msg))\n"
     ]
    },
    {
     "name": "stdout",
     "output_type": "stream",
     "text": [
      "0\n",
      "10000\n",
      "20000\n",
      "31.83565855026245\n"
     ]
    }
   ],
   "source": [
    "start = time.time()\n",
    "\n",
    "complete_r_9 = []\n",
    "\n",
    "for k, i in zip(combinations_9, index_9):\n",
    "    ls_9 = list(k)\n",
    "    sample_9 = df_t_9.iloc[ls_9].to_numpy()\n",
    "    temp_r_9, _ = pearsonr(sample_9[:,0], sample_9[:,1])\n",
    "    complete_r_9.append(temp_r_9) \n",
    "    if (i%10000 ==0): ### print every 10000 samples to see progress\n",
    "        print(i)\n",
    "                    \n",
    "\n",
    "end = time.time()\n",
    "\n",
    "print(end-start) ### seconds to run this cell"
   ]
  },
  {
   "cell_type": "code",
   "execution_count": 64,
   "id": "b45b0ab5",
   "metadata": {},
   "outputs": [
    {
     "data": {
      "image/png": "[encoded data removed]",
      "text/plain": [
       "<Figure size 1200x1000 with 1 Axes>"
      ]
     },
     "metadata": {},
     "output_type": "display_data"
    }
   ],
   "source": [
    "sns.set(rc={\"figure.figsize\":(12,10)})\n",
    "sns.histplot(complete_r_9, binwidth=0.0013)\n",
    "plt.show()"
   ]
  },
  {
   "cell_type": "code",
   "execution_count": 65,
   "id": "0d4f96b8",
   "metadata": {
    "scrolled": true
   },
   "outputs": [
    {
     "data": {
      "text/plain": [
       "0.8308121309472771"
      ]
     },
     "execution_count": 65,
     "metadata": {},
     "output_type": "execute_result"
    }
   ],
   "source": [
    "np.nanmean(complete_r_9)"
   ]
  },
  {
   "cell_type": "markdown",
   "id": "fc1e9337",
   "metadata": {},
   "source": [
    "# Below is the code where we tried to run some parallel computations, but unfortunately they did not work. Nevertheless, we present this code"
   ]
  },
  {
   "cell_type": "code",
   "execution_count": null,
   "id": "9dc563be",
   "metadata": {},
   "outputs": [],
   "source": []
  },
  {
   "cell_type": "markdown",
   "id": "ba143164",
   "metadata": {},
   "source": [
    "# Multiprocessing module"
   ]
  },
  {
   "cell_type": "code",
   "execution_count": 19,
   "id": "446fe269",
   "metadata": {},
   "outputs": [
    {
     "data": {
      "text/plain": [
       "(15, 2)"
      ]
     },
     "execution_count": 19,
     "metadata": {},
     "output_type": "execute_result"
    }
   ],
   "source": [
    "boot_sample = A[np.random.choice(A.shape[0], 15, replace=True)]\n",
    "boot_sample.shape"
   ]
  },
  {
   "cell_type": "code",
   "execution_count": 20,
   "id": "bd98ef3a",
   "metadata": {},
   "outputs": [
    {
     "name": "stdout",
     "output_type": "stream",
     "text": [
      "[[605.     3.13]\n",
      " [653.     3.12]\n",
      " [580.     3.07]\n",
      " [575.     2.74]\n",
      " [558.     2.81]\n",
      " [605.     3.13]\n",
      " [576.     3.39]\n",
      " [651.     3.36]\n",
      " [594.     2.96]\n",
      " [666.     3.44]\n",
      " [653.     3.12]\n",
      " [651.     3.36]\n",
      " [572.     2.88]\n",
      " [576.     3.39]\n",
      " [653.     3.12]]\n"
     ]
    }
   ],
   "source": [
    "print(boot_sample)"
   ]
  },
  {
   "cell_type": "code",
   "execution_count": 38,
   "id": "2578a35a",
   "metadata": {},
   "outputs": [
    {
     "name": "stdout",
     "output_type": "stream",
     "text": [
      "25.19264030456543\n"
     ]
    }
   ],
   "source": [
    "start = time.time()\n",
    "num_boots = 700000\n",
    "boot_samples = [] ### array to iterate over\n",
    "for i in range(num_boots):\n",
    "    boot_samples.append(A[np.random.choice(A.shape[0], 15, replace=True)])\n",
    "    \n",
    "end = time.time()\n",
    "\n",
    "print(end-start)"
   ]
  },
  {
   "cell_type": "code",
   "execution_count": 22,
   "id": "84846bb9",
   "metadata": {},
   "outputs": [
    {
     "data": {
      "text/plain": [
       "array([661., 575., 651., 661., 572., 605., 651., 661., 605., 555., 666.,\n",
       "       651., 635., 575., 578.])"
      ]
     },
     "execution_count": 22,
     "metadata": {},
     "output_type": "execute_result"
    }
   ],
   "source": [
    "boot_samples[0][:,0]"
   ]
  },
  {
   "cell_type": "code",
   "execution_count": 23,
   "id": "a18f3551",
   "metadata": {},
   "outputs": [],
   "source": [
    "### define boot function with iterator i\n",
    "\n",
    "boot_r = []\n",
    "boot_p_val=[]\n",
    "boot_sample = A[np.random.choice(A.shape[0], 15, replace=True)]\n",
    "def boot(i):\n",
    "    boot_r_temp, boot_p_val_temp = pearsonr(boot_samples[i][:,0],boot_samples[i][:,1])\n",
    "    boot_r.append(boot_r_temp)\n",
    "    boot_p_val.append(boot_p_val_temp)\n",
    "    return(boot_r)\n"
   ]
  },
  {
   "cell_type": "code",
   "execution_count": 24,
   "id": "1613762a",
   "metadata": {},
   "outputs": [
    {
     "data": {
      "text/plain": [
       "array([[661.  ,   3.43],\n",
       "       [575.  ,   2.74],\n",
       "       [651.  ,   3.36],\n",
       "       [661.  ,   3.43],\n",
       "       [572.  ,   2.88],\n",
       "       [605.  ,   3.13],\n",
       "       [651.  ,   3.36],\n",
       "       [661.  ,   3.43],\n",
       "       [605.  ,   3.13],\n",
       "       [555.  ,   3.  ],\n",
       "       [666.  ,   3.44],\n",
       "       [651.  ,   3.36],\n",
       "       [635.  ,   3.3 ],\n",
       "       [575.  ,   2.74],\n",
       "       [578.  ,   3.03]])"
      ]
     },
     "execution_count": 24,
     "metadata": {},
     "output_type": "execute_result"
    }
   ],
   "source": [
    "boot_samples[0]"
   ]
  },
  {
   "cell_type": "code",
   "execution_count": 39,
   "id": "3b51b43c",
   "metadata": {},
   "outputs": [],
   "source": [
    "### define boot function with iterator sample_boots\n",
    "\n",
    "boot_r = []\n",
    "boot_p_val=[]\n",
    "boot_sample = A[np.random.choice(A.shape[0], 15, replace=True)]\n",
    "def boot(sample):\n",
    "    boot_r_temp, boot_p_val_temp = pearsonr(sample[:,0],sample[:,1])\n",
    "    boot_r.append(boot_r_temp)\n",
    "    boot_p_val.append(boot_p_val_temp)\n",
    "    return(boot_r)\n"
   ]
  },
  {
   "cell_type": "code",
   "execution_count": 92,
   "id": "498fe67b",
   "metadata": {},
   "outputs": [
    {
     "name": "stdout",
     "output_type": "stream",
     "text": [
      "The time to run the bootstrap parallel number of samples was: 0.03555798530578613 seconds \n"
     ]
    }
   ],
   "source": [
    "start = time.time()\n",
    "n_cores = 8\n",
    "if __name__ == '__main__':\n",
    "    pool = Pool(n_cores)                         # Create a multiprocessing Pool\n",
    "    pool.apply_async(boot, boot_samples)\n",
    "    \n",
    "end = time.time()\n",
    "print(f\"The time to run the bootstrap parallel number of samples was: {end-start} seconds \")    "
   ]
  },
  {
   "cell_type": "code",
   "execution_count": 95,
   "id": "5bc86b8c",
   "metadata": {},
   "outputs": [
    {
     "data": {
      "text/plain": [
       "40000"
      ]
     },
     "execution_count": 95,
     "metadata": {},
     "output_type": "execute_result"
    }
   ],
   "source": [
    "len(boot_samples)"
   ]
  },
  {
   "cell_type": "code",
   "execution_count": 96,
   "id": "8cb7c9bc",
   "metadata": {},
   "outputs": [
    {
     "data": {
      "text/plain": [
       "[]"
      ]
     },
     "execution_count": 96,
     "metadata": {},
     "output_type": "execute_result"
    }
   ],
   "source": [
    "boot_r"
   ]
  },
  {
   "cell_type": "code",
   "execution_count": null,
   "id": "c051c59c",
   "metadata": {},
   "outputs": [
    {
     "name": "stderr",
     "output_type": "stream",
     "text": [
      "\r",
      "  0%|          | 0/40000 [00:00<?, ?it/s]"
     ]
    }
   ],
   "source": [
    "pool = Pool(8)\n",
    "for _ in tqdm.tqdm(pool.imap_unordered(boot, boot_samples), total=len(boot_samples)):\n",
    "    pass"
   ]
  },
  {
   "cell_type": "code",
   "execution_count": 65,
   "id": "581a9013",
   "metadata": {},
   "outputs": [],
   "source": [
    "for i in range(100):\n",
    "    boot(boot_samples[i])"
   ]
  },
  {
   "cell_type": "markdown",
   "id": "c865e9f5",
   "metadata": {},
   "source": [
    "# Asyncio"
   ]
  },
  {
   "cell_type": "code",
   "execution_count": 40,
   "id": "4de99824",
   "metadata": {},
   "outputs": [
    {
     "name": "stdout",
     "output_type": "stream",
     "text": [
      "928.6929235458374\n"
     ]
    }
   ],
   "source": [
    "import asyncio\n",
    "boot_r = []\n",
    "boot_p_val=[]\n",
    "\n",
    "def background(f):\n",
    "    def wrapped(*args, **kwargs):\n",
    "        return asyncio.get_event_loop().run_in_executor(None, f, *args, **kwargs)\n",
    "\n",
    "    return wrapped\n",
    "\n",
    "@background\n",
    "def boot(sample):\n",
    "    boot_r_temp, boot_p_val_temp = pearsonr(sample[:,0],sample[:,1])\n",
    "    boot_r.append(boot_r_temp)\n",
    "    boot_p_val.append(boot_p_val_temp)\n",
    "    return(boot_r)\n",
    "\n",
    "start = time.time()\n",
    "for sample in boot_samples:\n",
    "    boot(sample)\n",
    "    \n",
    "end = time.time()\n",
    "\n",
    "print(end-start)"
   ]
  },
  {
   "cell_type": "code",
   "execution_count": null,
   "id": "3a88305a",
   "metadata": {},
   "outputs": [],
   "source": []
  },
  {
   "cell_type": "code",
   "execution_count": 26,
   "id": "2fafe439",
   "metadata": {},
   "outputs": [
    {
     "ename": "SyntaxError",
     "evalue": "invalid syntax (2260495966.py, line 3)",
     "output_type": "error",
     "traceback": [
      "\u001b[1;36m  File \u001b[1;32m\"C:\\Users\\Uni\\AppData\\Local\\Temp\\ipykernel_3572\\2260495966.py\"\u001b[1;36m, line \u001b[1;32m3\u001b[0m\n\u001b[1;33m    p = Process(target=boot, args=(i,)) for i in range(2000)\u001b[0m\n\u001b[1;37m                                        ^\u001b[0m\n\u001b[1;31mSyntaxError\u001b[0m\u001b[1;31m:\u001b[0m invalid syntax\n"
     ]
    }
   ],
   "source": [
    "start = time.time()\n",
    "if __name__ == '__main__':\n",
    "    p = Process(target=boot, args=(i,)) for i in range(2000)\n",
    "    p.start()\n",
    "    p.join()\n",
    "    \n",
    "end = time.time()\n",
    "print(f\"The time to run the bootstrap for {n_resamples} number of samples was: {end-start} seconds \")\n"
   ]
  },
  {
   "cell_type": "code",
   "execution_count": 17,
   "id": "9d5275f7",
   "metadata": {},
   "outputs": [],
   "source": [
    "boot_r = boot(4000)"
   ]
  },
  {
   "cell_type": "code",
   "execution_count": 18,
   "id": "750cb1f1",
   "metadata": {},
   "outputs": [
    {
     "data": {
      "text/plain": [
       "4000"
      ]
     },
     "execution_count": 18,
     "metadata": {},
     "output_type": "execute_result"
    }
   ],
   "source": [
    "len(boot_r)"
   ]
  },
  {
   "cell_type": "code",
   "execution_count": null,
   "id": "98d4e427",
   "metadata": {},
   "outputs": [
    {
     "name": "stderr",
     "output_type": "stream",
     "text": [
      "[Parallel(n_jobs=10)]: Using backend LokyBackend with 10 concurrent workers.\n",
      "[Parallel(n_jobs=10)]: Done   5 tasks      | elapsed:    6.2s\n",
      "[Parallel(n_jobs=10)]: Done  12 tasks      | elapsed:   14.3s\n",
      "[Parallel(n_jobs=10)]: Done  21 tasks      | elapsed:   24.5s\n",
      "[Parallel(n_jobs=10)]: Done  30 tasks      | elapsed:   34.6s\n",
      "[Parallel(n_jobs=10)]: Done  41 tasks      | elapsed:   47.2s\n",
      "[Parallel(n_jobs=10)]: Done  52 tasks      | elapsed:   59.9s\n"
     ]
    }
   ],
   "source": [
    "start = time.time()\n",
    "Parallel(n_jobs=10, verbose=10)(delayed(boot)(i) for i in range(0,1000))\n",
    "end = time.time()\n",
    "\n",
    "print(f\"The time to run the bootstrap for 4000000 number of samples was: {end-start} seconds \")\n"
   ]
  },
  {
   "cell_type": "code",
   "execution_count": 21,
   "id": "030a30be",
   "metadata": {},
   "outputs": [
    {
     "data": {
      "text/plain": [
       "45.81954622268677"
      ]
     },
     "execution_count": 21,
     "metadata": {},
     "output_type": "execute_result"
    }
   ],
   "source": [
    "start = time.time()\n",
    "\n",
    "boot_r_withfunc = boot(40000)\n",
    "\n",
    "end = time.time()\n",
    "\n",
    "end-start"
   ]
  },
  {
   "cell_type": "code",
   "execution_count": 17,
   "id": "01bcc17c",
   "metadata": {},
   "outputs": [
    {
     "data": {
      "text/plain": [
       "array([3.39, 3.3 , 2.81, 3.03, 3.44, 3.07, 3.  , 3.43, 3.36, 3.13, 3.12,\n",
       "       2.74, 2.76, 2.88, 2.96])"
      ]
     },
     "execution_count": 17,
     "metadata": {},
     "output_type": "execute_result"
    }
   ],
   "source": [
    "A[:,1]"
   ]
  },
  {
   "cell_type": "code",
   "execution_count": 22,
   "id": "01033845",
   "metadata": {},
   "outputs": [],
   "source": [
    "permutations = itertools.permutations(A)"
   ]
  },
  {
   "cell_type": "code",
   "execution_count": 23,
   "id": "14672fe4",
   "metadata": {},
   "outputs": [
    {
     "ename": "TypeError",
     "evalue": "'itertools.permutations' object is not subscriptable",
     "output_type": "error",
     "traceback": [
      "\u001b[1;31m---------------------------------------------------------------------------\u001b[0m",
      "\u001b[1;31mTypeError\u001b[0m                                 Traceback (most recent call last)",
      "\u001b[1;32m~\\AppData\\Local\\Temp\\ipykernel_15008\\488167022.py\u001b[0m in \u001b[0;36m<module>\u001b[1;34m\u001b[0m\n\u001b[1;32m----> 1\u001b[1;33m \u001b[0mpermutations\u001b[0m\u001b[1;33m[\u001b[0m\u001b[1;36m5\u001b[0m\u001b[1;33m]\u001b[0m\u001b[1;33m\u001b[0m\u001b[1;33m\u001b[0m\u001b[0m\n\u001b[0m",
      "\u001b[1;31mTypeError\u001b[0m: 'itertools.permutations' object is not subscriptable"
     ]
    }
   ],
   "source": [
    "permutations[5]"
   ]
  },
  {
   "cell_type": "code",
   "execution_count": 28,
   "id": "3f1fa55d",
   "metadata": {},
   "outputs": [],
   "source": [
    "a = GrayCode(10)"
   ]
  },
  {
   "cell_type": "code",
   "execution_count": 29,
   "id": "aa08ab6a",
   "metadata": {},
   "outputs": [
    {
     "data": {
      "text/plain": [
       "sympy.combinatorics.graycode.GrayCode"
      ]
     },
     "execution_count": 29,
     "metadata": {},
     "output_type": "execute_result"
    }
   ],
   "source": [
    "type(a)"
   ]
  },
  {
   "cell_type": "code",
   "execution_count": 30,
   "id": "e2e8c845",
   "metadata": {},
   "outputs": [
    {
     "data": {
      "text/plain": [
       "1024"
      ]
     },
     "execution_count": 30,
     "metadata": {},
     "output_type": "execute_result"
    }
   ],
   "source": [
    "len(list(a.generate_gray()))"
   ]
  },
  {
   "cell_type": "code",
   "execution_count": 25,
   "id": "d25142c2",
   "metadata": {
    "collapsed": true
   },
   "outputs": [
    {
     "data": {
      "text/plain": [
       "['000000000000000',\n",
       " '000000000000001',\n",
       " '000000000000011',\n",
       " '000000000000010',\n",
       " '000000000000110',\n",
       " '000000000000111',\n",
       " '000000000000101',\n",
       " '000000000000100',\n",
       " '000000000001100',\n",
       " '000000000001101',\n",
       " '000000000001111',\n",
       " '000000000001110',\n",
       " '000000000001010',\n",
       " '000000000001011',\n",
       " '000000000001001',\n",
       " '000000000001000',\n",
       " '000000000011000',\n",
       " '000000000011001',\n",
       " '000000000011011',\n",
       " '000000000011010',\n",
       " '000000000011110',\n",
       " '000000000011111',\n",
       " '000000000011101',\n",
       " '000000000011100',\n",
       " '000000000010100',\n",
       " '000000000010101',\n",
       " '000000000010111',\n",
       " '000000000010110',\n",
       " '000000000010010',\n",
       " '000000000010011',\n",
       " '000000000010001',\n",
       " '000000000010000',\n",
       " '000000000110000',\n",
       " '000000000110001',\n",
       " '000000000110011',\n",
       " '000000000110010',\n",
       " '000000000110110',\n",
       " '000000000110111',\n",
       " '000000000110101',\n",
       " '000000000110100',\n",
       " '000000000111100',\n",
       " '000000000111101',\n",
       " '000000000111111',\n",
       " '000000000111110',\n",
       " '000000000111010',\n",
       " '000000000111011',\n",
       " '000000000111001',\n",
       " '000000000111000',\n",
       " '000000000101000',\n",
       " '000000000101001',\n",
       " '000000000101011',\n",
       " '000000000101010',\n",
       " '000000000101110',\n",
       " '000000000101111',\n",
       " '000000000101101',\n",
       " '000000000101100',\n",
       " '000000000100100',\n",
       " '000000000100101',\n",
       " '000000000100111',\n",
       " '000000000100110',\n",
       " '000000000100010',\n",
       " '000000000100011',\n",
       " '000000000100001',\n",
       " '000000000100000',\n",
       " '000000001100000',\n",
       " '000000001100001',\n",
       " '000000001100011',\n",
       " '000000001100010',\n",
       " '000000001100110',\n",
       " '000000001100111',\n",
       " '000000001100101',\n",
       " '000000001100100',\n",
       " '000000001101100',\n",
       " '000000001101101',\n",
       " '000000001101111',\n",
       " '000000001101110',\n",
       " '000000001101010',\n",
       " '000000001101011',\n",
       " '000000001101001',\n",
       " '000000001101000',\n",
       " '000000001111000',\n",
       " '000000001111001',\n",
       " '000000001111011',\n",
       " '000000001111010',\n",
       " '000000001111110',\n",
       " '000000001111111',\n",
       " '000000001111101',\n",
       " '000000001111100',\n",
       " '000000001110100',\n",
       " '000000001110101',\n",
       " '000000001110111',\n",
       " '000000001110110',\n",
       " '000000001110010',\n",
       " '000000001110011',\n",
       " '000000001110001',\n",
       " '000000001110000',\n",
       " '000000001010000',\n",
       " '000000001010001',\n",
       " '000000001010011',\n",
       " '000000001010010',\n",
       " '000000001010110',\n",
       " '000000001010111',\n",
       " '000000001010101',\n",
       " '000000001010100',\n",
       " '000000001011100',\n",
       " '000000001011101',\n",
       " '000000001011111',\n",
       " '000000001011110',\n",
       " '000000001011010',\n",
       " '000000001011011',\n",
       " '000000001011001',\n",
       " '000000001011000',\n",
       " '000000001001000',\n",
       " '000000001001001',\n",
       " '000000001001011',\n",
       " '000000001001010',\n",
       " '000000001001110',\n",
       " '000000001001111',\n",
       " '000000001001101',\n",
       " '000000001001100',\n",
       " '000000001000100',\n",
       " '000000001000101',\n",
       " '000000001000111',\n",
       " '000000001000110',\n",
       " '000000001000010',\n",
       " '000000001000011',\n",
       " '000000001000001',\n",
       " '000000001000000',\n",
       " '000000011000000',\n",
       " '000000011000001',\n",
       " '000000011000011',\n",
       " '000000011000010',\n",
       " '000000011000110',\n",
       " '000000011000111',\n",
       " '000000011000101',\n",
       " '000000011000100',\n",
       " '000000011001100',\n",
       " '000000011001101',\n",
       " '000000011001111',\n",
       " '000000011001110',\n",
       " '000000011001010',\n",
       " '000000011001011',\n",
       " '000000011001001',\n",
       " '000000011001000',\n",
       " '000000011011000',\n",
       " '000000011011001',\n",
       " '000000011011011',\n",
       " '000000011011010',\n",
       " '000000011011110',\n",
       " '000000011011111',\n",
       " '000000011011101',\n",
       " '000000011011100',\n",
       " '000000011010100',\n",
       " '000000011010101',\n",
       " '000000011010111',\n",
       " '000000011010110',\n",
       " '000000011010010',\n",
       " '000000011010011',\n",
       " '000000011010001',\n",
       " '000000011010000',\n",
       " '000000011110000',\n",
       " '000000011110001',\n",
       " '000000011110011',\n",
       " '000000011110010',\n",
       " '000000011110110',\n",
       " '000000011110111',\n",
       " '000000011110101',\n",
       " '000000011110100',\n",
       " '000000011111100',\n",
       " '000000011111101',\n",
       " '000000011111111',\n",
       " '000000011111110',\n",
       " '000000011111010',\n",
       " '000000011111011',\n",
       " '000000011111001',\n",
       " '000000011111000',\n",
       " '000000011101000',\n",
       " '000000011101001',\n",
       " '000000011101011',\n",
       " '000000011101010',\n",
       " '000000011101110',\n",
       " '000000011101111',\n",
       " '000000011101101',\n",
       " '000000011101100',\n",
       " '000000011100100',\n",
       " '000000011100101',\n",
       " '000000011100111',\n",
       " '000000011100110',\n",
       " '000000011100010',\n",
       " '000000011100011',\n",
       " '000000011100001',\n",
       " '000000011100000',\n",
       " '000000010100000',\n",
       " '000000010100001',\n",
       " '000000010100011',\n",
       " '000000010100010',\n",
       " '000000010100110',\n",
       " '000000010100111',\n",
       " '000000010100101',\n",
       " '000000010100100',\n",
       " '000000010101100',\n",
       " '000000010101101',\n",
       " '000000010101111',\n",
       " '000000010101110',\n",
       " '000000010101010',\n",
       " '000000010101011',\n",
       " '000000010101001',\n",
       " '000000010101000',\n",
       " '000000010111000',\n",
       " '000000010111001',\n",
       " '000000010111011',\n",
       " '000000010111010',\n",
       " '000000010111110',\n",
       " '000000010111111',\n",
       " '000000010111101',\n",
       " '000000010111100',\n",
       " '000000010110100',\n",
       " '000000010110101',\n",
       " '000000010110111',\n",
       " '000000010110110',\n",
       " '000000010110010',\n",
       " '000000010110011',\n",
       " '000000010110001',\n",
       " '000000010110000',\n",
       " '000000010010000',\n",
       " '000000010010001',\n",
       " '000000010010011',\n",
       " '000000010010010',\n",
       " '000000010010110',\n",
       " '000000010010111',\n",
       " '000000010010101',\n",
       " '000000010010100',\n",
       " '000000010011100',\n",
       " '000000010011101',\n",
       " '000000010011111',\n",
       " '000000010011110',\n",
       " '000000010011010',\n",
       " '000000010011011',\n",
       " '000000010011001',\n",
       " '000000010011000',\n",
       " '000000010001000',\n",
       " '000000010001001',\n",
       " '000000010001011',\n",
       " '000000010001010',\n",
       " '000000010001110',\n",
       " '000000010001111',\n",
       " '000000010001101',\n",
       " '000000010001100',\n",
       " '000000010000100',\n",
       " '000000010000101',\n",
       " '000000010000111',\n",
       " '000000010000110',\n",
       " '000000010000010',\n",
       " '000000010000011',\n",
       " '000000010000001',\n",
       " '000000010000000',\n",
       " '000000110000000',\n",
       " '000000110000001',\n",
       " '000000110000011',\n",
       " '000000110000010',\n",
       " '000000110000110',\n",
       " '000000110000111',\n",
       " '000000110000101',\n",
       " '000000110000100',\n",
       " '000000110001100',\n",
       " '000000110001101',\n",
       " '000000110001111',\n",
       " '000000110001110',\n",
       " '000000110001010',\n",
       " '000000110001011',\n",
       " '000000110001001',\n",
       " '000000110001000',\n",
       " '000000110011000',\n",
       " '000000110011001',\n",
       " '000000110011011',\n",
       " '000000110011010',\n",
       " '000000110011110',\n",
       " '000000110011111',\n",
       " '000000110011101',\n",
       " '000000110011100',\n",
       " '000000110010100',\n",
       " '000000110010101',\n",
       " '000000110010111',\n",
       " '000000110010110',\n",
       " '000000110010010',\n",
       " '000000110010011',\n",
       " '000000110010001',\n",
       " '000000110010000',\n",
       " '000000110110000',\n",
       " '000000110110001',\n",
       " '000000110110011',\n",
       " '000000110110010',\n",
       " '000000110110110',\n",
       " '000000110110111',\n",
       " '000000110110101',\n",
       " '000000110110100',\n",
       " '000000110111100',\n",
       " '000000110111101',\n",
       " '000000110111111',\n",
       " '000000110111110',\n",
       " '000000110111010',\n",
       " '000000110111011',\n",
       " '000000110111001',\n",
       " '000000110111000',\n",
       " '000000110101000',\n",
       " '000000110101001',\n",
       " '000000110101011',\n",
       " '000000110101010',\n",
       " '000000110101110',\n",
       " '000000110101111',\n",
       " '000000110101101',\n",
       " '000000110101100',\n",
       " '000000110100100',\n",
       " '000000110100101',\n",
       " '000000110100111',\n",
       " '000000110100110',\n",
       " '000000110100010',\n",
       " '000000110100011',\n",
       " '000000110100001',\n",
       " '000000110100000',\n",
       " '000000111100000',\n",
       " '000000111100001',\n",
       " '000000111100011',\n",
       " '000000111100010',\n",
       " '000000111100110',\n",
       " '000000111100111',\n",
       " '000000111100101',\n",
       " '000000111100100',\n",
       " '000000111101100',\n",
       " '000000111101101',\n",
       " '000000111101111',\n",
       " '000000111101110',\n",
       " '000000111101010',\n",
       " '000000111101011',\n",
       " '000000111101001',\n",
       " '000000111101000',\n",
       " '000000111111000',\n",
       " '000000111111001',\n",
       " '000000111111011',\n",
       " '000000111111010',\n",
       " '000000111111110',\n",
       " '000000111111111',\n",
       " '000000111111101',\n",
       " '000000111111100',\n",
       " '000000111110100',\n",
       " '000000111110101',\n",
       " '000000111110111',\n",
       " '000000111110110',\n",
       " '000000111110010',\n",
       " '000000111110011',\n",
       " '000000111110001',\n",
       " '000000111110000',\n",
       " '000000111010000',\n",
       " '000000111010001',\n",
       " '000000111010011',\n",
       " '000000111010010',\n",
       " '000000111010110',\n",
       " '000000111010111',\n",
       " '000000111010101',\n",
       " '000000111010100',\n",
       " '000000111011100',\n",
       " '000000111011101',\n",
       " '000000111011111',\n",
       " '000000111011110',\n",
       " '000000111011010',\n",
       " '000000111011011',\n",
       " '000000111011001',\n",
       " '000000111011000',\n",
       " '000000111001000',\n",
       " '000000111001001',\n",
       " '000000111001011',\n",
       " '000000111001010',\n",
       " '000000111001110',\n",
       " '000000111001111',\n",
       " '000000111001101',\n",
       " '000000111001100',\n",
       " '000000111000100',\n",
       " '000000111000101',\n",
       " '000000111000111',\n",
       " '000000111000110',\n",
       " '000000111000010',\n",
       " '000000111000011',\n",
       " '000000111000001',\n",
       " '000000111000000',\n",
       " '000000101000000',\n",
       " '000000101000001',\n",
       " '000000101000011',\n",
       " '000000101000010',\n",
       " '000000101000110',\n",
       " '000000101000111',\n",
       " '000000101000101',\n",
       " '000000101000100',\n",
       " '000000101001100',\n",
       " '000000101001101',\n",
       " '000000101001111',\n",
       " '000000101001110',\n",
       " '000000101001010',\n",
       " '000000101001011',\n",
       " '000000101001001',\n",
       " '000000101001000',\n",
       " '000000101011000',\n",
       " '000000101011001',\n",
       " '000000101011011',\n",
       " '000000101011010',\n",
       " '000000101011110',\n",
       " '000000101011111',\n",
       " '000000101011101',\n",
       " '000000101011100',\n",
       " '000000101010100',\n",
       " '000000101010101',\n",
       " '000000101010111',\n",
       " '000000101010110',\n",
       " '000000101010010',\n",
       " '000000101010011',\n",
       " '000000101010001',\n",
       " '000000101010000',\n",
       " '000000101110000',\n",
       " '000000101110001',\n",
       " '000000101110011',\n",
       " '000000101110010',\n",
       " '000000101110110',\n",
       " '000000101110111',\n",
       " '000000101110101',\n",
       " '000000101110100',\n",
       " '000000101111100',\n",
       " '000000101111101',\n",
       " '000000101111111',\n",
       " '000000101111110',\n",
       " '000000101111010',\n",
       " '000000101111011',\n",
       " '000000101111001',\n",
       " '000000101111000',\n",
       " '000000101101000',\n",
       " '000000101101001',\n",
       " '000000101101011',\n",
       " '000000101101010',\n",
       " '000000101101110',\n",
       " '000000101101111',\n",
       " '000000101101101',\n",
       " '000000101101100',\n",
       " '000000101100100',\n",
       " '000000101100101',\n",
       " '000000101100111',\n",
       " '000000101100110',\n",
       " '000000101100010',\n",
       " '000000101100011',\n",
       " '000000101100001',\n",
       " '000000101100000',\n",
       " '000000100100000',\n",
       " '000000100100001',\n",
       " '000000100100011',\n",
       " '000000100100010',\n",
       " '000000100100110',\n",
       " '000000100100111',\n",
       " '000000100100101',\n",
       " '000000100100100',\n",
       " '000000100101100',\n",
       " '000000100101101',\n",
       " '000000100101111',\n",
       " '000000100101110',\n",
       " '000000100101010',\n",
       " '000000100101011',\n",
       " '000000100101001',\n",
       " '000000100101000',\n",
       " '000000100111000',\n",
       " '000000100111001',\n",
       " '000000100111011',\n",
       " '000000100111010',\n",
       " '000000100111110',\n",
       " '000000100111111',\n",
       " '000000100111101',\n",
       " '000000100111100',\n",
       " '000000100110100',\n",
       " '000000100110101',\n",
       " '000000100110111',\n",
       " '000000100110110',\n",
       " '000000100110010',\n",
       " '000000100110011',\n",
       " '000000100110001',\n",
       " '000000100110000',\n",
       " '000000100010000',\n",
       " '000000100010001',\n",
       " '000000100010011',\n",
       " '000000100010010',\n",
       " '000000100010110',\n",
       " '000000100010111',\n",
       " '000000100010101',\n",
       " '000000100010100',\n",
       " '000000100011100',\n",
       " '000000100011101',\n",
       " '000000100011111',\n",
       " '000000100011110',\n",
       " '000000100011010',\n",
       " '000000100011011',\n",
       " '000000100011001',\n",
       " '000000100011000',\n",
       " '000000100001000',\n",
       " '000000100001001',\n",
       " '000000100001011',\n",
       " '000000100001010',\n",
       " '000000100001110',\n",
       " '000000100001111',\n",
       " '000000100001101',\n",
       " '000000100001100',\n",
       " '000000100000100',\n",
       " '000000100000101',\n",
       " '000000100000111',\n",
       " '000000100000110',\n",
       " '000000100000010',\n",
       " '000000100000011',\n",
       " '000000100000001',\n",
       " '000000100000000',\n",
       " '000001100000000',\n",
       " '000001100000001',\n",
       " '000001100000011',\n",
       " '000001100000010',\n",
       " '000001100000110',\n",
       " '000001100000111',\n",
       " '000001100000101',\n",
       " '000001100000100',\n",
       " '000001100001100',\n",
       " '000001100001101',\n",
       " '000001100001111',\n",
       " '000001100001110',\n",
       " '000001100001010',\n",
       " '000001100001011',\n",
       " '000001100001001',\n",
       " '000001100001000',\n",
       " '000001100011000',\n",
       " '000001100011001',\n",
       " '000001100011011',\n",
       " '000001100011010',\n",
       " '000001100011110',\n",
       " '000001100011111',\n",
       " '000001100011101',\n",
       " '000001100011100',\n",
       " '000001100010100',\n",
       " '000001100010101',\n",
       " '000001100010111',\n",
       " '000001100010110',\n",
       " '000001100010010',\n",
       " '000001100010011',\n",
       " '000001100010001',\n",
       " '000001100010000',\n",
       " '000001100110000',\n",
       " '000001100110001',\n",
       " '000001100110011',\n",
       " '000001100110010',\n",
       " '000001100110110',\n",
       " '000001100110111',\n",
       " '000001100110101',\n",
       " '000001100110100',\n",
       " '000001100111100',\n",
       " '000001100111101',\n",
       " '000001100111111',\n",
       " '000001100111110',\n",
       " '000001100111010',\n",
       " '000001100111011',\n",
       " '000001100111001',\n",
       " '000001100111000',\n",
       " '000001100101000',\n",
       " '000001100101001',\n",
       " '000001100101011',\n",
       " '000001100101010',\n",
       " '000001100101110',\n",
       " '000001100101111',\n",
       " '000001100101101',\n",
       " '000001100101100',\n",
       " '000001100100100',\n",
       " '000001100100101',\n",
       " '000001100100111',\n",
       " '000001100100110',\n",
       " '000001100100010',\n",
       " '000001100100011',\n",
       " '000001100100001',\n",
       " '000001100100000',\n",
       " '000001101100000',\n",
       " '000001101100001',\n",
       " '000001101100011',\n",
       " '000001101100010',\n",
       " '000001101100110',\n",
       " '000001101100111',\n",
       " '000001101100101',\n",
       " '000001101100100',\n",
       " '000001101101100',\n",
       " '000001101101101',\n",
       " '000001101101111',\n",
       " '000001101101110',\n",
       " '000001101101010',\n",
       " '000001101101011',\n",
       " '000001101101001',\n",
       " '000001101101000',\n",
       " '000001101111000',\n",
       " '000001101111001',\n",
       " '000001101111011',\n",
       " '000001101111010',\n",
       " '000001101111110',\n",
       " '000001101111111',\n",
       " '000001101111101',\n",
       " '000001101111100',\n",
       " '000001101110100',\n",
       " '000001101110101',\n",
       " '000001101110111',\n",
       " '000001101110110',\n",
       " '000001101110010',\n",
       " '000001101110011',\n",
       " '000001101110001',\n",
       " '000001101110000',\n",
       " '000001101010000',\n",
       " '000001101010001',\n",
       " '000001101010011',\n",
       " '000001101010010',\n",
       " '000001101010110',\n",
       " '000001101010111',\n",
       " '000001101010101',\n",
       " '000001101010100',\n",
       " '000001101011100',\n",
       " '000001101011101',\n",
       " '000001101011111',\n",
       " '000001101011110',\n",
       " '000001101011010',\n",
       " '000001101011011',\n",
       " '000001101011001',\n",
       " '000001101011000',\n",
       " '000001101001000',\n",
       " '000001101001001',\n",
       " '000001101001011',\n",
       " '000001101001010',\n",
       " '000001101001110',\n",
       " '000001101001111',\n",
       " '000001101001101',\n",
       " '000001101001100',\n",
       " '000001101000100',\n",
       " '000001101000101',\n",
       " '000001101000111',\n",
       " '000001101000110',\n",
       " '000001101000010',\n",
       " '000001101000011',\n",
       " '000001101000001',\n",
       " '000001101000000',\n",
       " '000001111000000',\n",
       " '000001111000001',\n",
       " '000001111000011',\n",
       " '000001111000010',\n",
       " '000001111000110',\n",
       " '000001111000111',\n",
       " '000001111000101',\n",
       " '000001111000100',\n",
       " '000001111001100',\n",
       " '000001111001101',\n",
       " '000001111001111',\n",
       " '000001111001110',\n",
       " '000001111001010',\n",
       " '000001111001011',\n",
       " '000001111001001',\n",
       " '000001111001000',\n",
       " '000001111011000',\n",
       " '000001111011001',\n",
       " '000001111011011',\n",
       " '000001111011010',\n",
       " '000001111011110',\n",
       " '000001111011111',\n",
       " '000001111011101',\n",
       " '000001111011100',\n",
       " '000001111010100',\n",
       " '000001111010101',\n",
       " '000001111010111',\n",
       " '000001111010110',\n",
       " '000001111010010',\n",
       " '000001111010011',\n",
       " '000001111010001',\n",
       " '000001111010000',\n",
       " '000001111110000',\n",
       " '000001111110001',\n",
       " '000001111110011',\n",
       " '000001111110010',\n",
       " '000001111110110',\n",
       " '000001111110111',\n",
       " '000001111110101',\n",
       " '000001111110100',\n",
       " '000001111111100',\n",
       " '000001111111101',\n",
       " '000001111111111',\n",
       " '000001111111110',\n",
       " '000001111111010',\n",
       " '000001111111011',\n",
       " '000001111111001',\n",
       " '000001111111000',\n",
       " '000001111101000',\n",
       " '000001111101001',\n",
       " '000001111101011',\n",
       " '000001111101010',\n",
       " '000001111101110',\n",
       " '000001111101111',\n",
       " '000001111101101',\n",
       " '000001111101100',\n",
       " '000001111100100',\n",
       " '000001111100101',\n",
       " '000001111100111',\n",
       " '000001111100110',\n",
       " '000001111100010',\n",
       " '000001111100011',\n",
       " '000001111100001',\n",
       " '000001111100000',\n",
       " '000001110100000',\n",
       " '000001110100001',\n",
       " '000001110100011',\n",
       " '000001110100010',\n",
       " '000001110100110',\n",
       " '000001110100111',\n",
       " '000001110100101',\n",
       " '000001110100100',\n",
       " '000001110101100',\n",
       " '000001110101101',\n",
       " '000001110101111',\n",
       " '000001110101110',\n",
       " '000001110101010',\n",
       " '000001110101011',\n",
       " '000001110101001',\n",
       " '000001110101000',\n",
       " '000001110111000',\n",
       " '000001110111001',\n",
       " '000001110111011',\n",
       " '000001110111010',\n",
       " '000001110111110',\n",
       " '000001110111111',\n",
       " '000001110111101',\n",
       " '000001110111100',\n",
       " '000001110110100',\n",
       " '000001110110101',\n",
       " '000001110110111',\n",
       " '000001110110110',\n",
       " '000001110110010',\n",
       " '000001110110011',\n",
       " '000001110110001',\n",
       " '000001110110000',\n",
       " '000001110010000',\n",
       " '000001110010001',\n",
       " '000001110010011',\n",
       " '000001110010010',\n",
       " '000001110010110',\n",
       " '000001110010111',\n",
       " '000001110010101',\n",
       " '000001110010100',\n",
       " '000001110011100',\n",
       " '000001110011101',\n",
       " '000001110011111',\n",
       " '000001110011110',\n",
       " '000001110011010',\n",
       " '000001110011011',\n",
       " '000001110011001',\n",
       " '000001110011000',\n",
       " '000001110001000',\n",
       " '000001110001001',\n",
       " '000001110001011',\n",
       " '000001110001010',\n",
       " '000001110001110',\n",
       " '000001110001111',\n",
       " '000001110001101',\n",
       " '000001110001100',\n",
       " '000001110000100',\n",
       " '000001110000101',\n",
       " '000001110000111',\n",
       " '000001110000110',\n",
       " '000001110000010',\n",
       " '000001110000011',\n",
       " '000001110000001',\n",
       " '000001110000000',\n",
       " '000001010000000',\n",
       " '000001010000001',\n",
       " '000001010000011',\n",
       " '000001010000010',\n",
       " '000001010000110',\n",
       " '000001010000111',\n",
       " '000001010000101',\n",
       " '000001010000100',\n",
       " '000001010001100',\n",
       " '000001010001101',\n",
       " '000001010001111',\n",
       " '000001010001110',\n",
       " '000001010001010',\n",
       " '000001010001011',\n",
       " '000001010001001',\n",
       " '000001010001000',\n",
       " '000001010011000',\n",
       " '000001010011001',\n",
       " '000001010011011',\n",
       " '000001010011010',\n",
       " '000001010011110',\n",
       " '000001010011111',\n",
       " '000001010011101',\n",
       " '000001010011100',\n",
       " '000001010010100',\n",
       " '000001010010101',\n",
       " '000001010010111',\n",
       " '000001010010110',\n",
       " '000001010010010',\n",
       " '000001010010011',\n",
       " '000001010010001',\n",
       " '000001010010000',\n",
       " '000001010110000',\n",
       " '000001010110001',\n",
       " '000001010110011',\n",
       " '000001010110010',\n",
       " '000001010110110',\n",
       " '000001010110111',\n",
       " '000001010110101',\n",
       " '000001010110100',\n",
       " '000001010111100',\n",
       " '000001010111101',\n",
       " '000001010111111',\n",
       " '000001010111110',\n",
       " '000001010111010',\n",
       " '000001010111011',\n",
       " '000001010111001',\n",
       " '000001010111000',\n",
       " '000001010101000',\n",
       " '000001010101001',\n",
       " '000001010101011',\n",
       " '000001010101010',\n",
       " '000001010101110',\n",
       " '000001010101111',\n",
       " '000001010101101',\n",
       " '000001010101100',\n",
       " '000001010100100',\n",
       " '000001010100101',\n",
       " '000001010100111',\n",
       " '000001010100110',\n",
       " '000001010100010',\n",
       " '000001010100011',\n",
       " '000001010100001',\n",
       " '000001010100000',\n",
       " '000001011100000',\n",
       " '000001011100001',\n",
       " '000001011100011',\n",
       " '000001011100010',\n",
       " '000001011100110',\n",
       " '000001011100111',\n",
       " '000001011100101',\n",
       " '000001011100100',\n",
       " '000001011101100',\n",
       " '000001011101101',\n",
       " '000001011101111',\n",
       " '000001011101110',\n",
       " '000001011101010',\n",
       " '000001011101011',\n",
       " '000001011101001',\n",
       " '000001011101000',\n",
       " '000001011111000',\n",
       " '000001011111001',\n",
       " '000001011111011',\n",
       " '000001011111010',\n",
       " '000001011111110',\n",
       " '000001011111111',\n",
       " '000001011111101',\n",
       " '000001011111100',\n",
       " '000001011110100',\n",
       " '000001011110101',\n",
       " '000001011110111',\n",
       " '000001011110110',\n",
       " '000001011110010',\n",
       " '000001011110011',\n",
       " '000001011110001',\n",
       " '000001011110000',\n",
       " '000001011010000',\n",
       " '000001011010001',\n",
       " '000001011010011',\n",
       " '000001011010010',\n",
       " '000001011010110',\n",
       " '000001011010111',\n",
       " '000001011010101',\n",
       " '000001011010100',\n",
       " '000001011011100',\n",
       " '000001011011101',\n",
       " '000001011011111',\n",
       " '000001011011110',\n",
       " '000001011011010',\n",
       " '000001011011011',\n",
       " '000001011011001',\n",
       " '000001011011000',\n",
       " '000001011001000',\n",
       " '000001011001001',\n",
       " '000001011001011',\n",
       " '000001011001010',\n",
       " '000001011001110',\n",
       " '000001011001111',\n",
       " '000001011001101',\n",
       " '000001011001100',\n",
       " '000001011000100',\n",
       " '000001011000101',\n",
       " '000001011000111',\n",
       " '000001011000110',\n",
       " '000001011000010',\n",
       " '000001011000011',\n",
       " '000001011000001',\n",
       " '000001011000000',\n",
       " '000001001000000',\n",
       " '000001001000001',\n",
       " '000001001000011',\n",
       " '000001001000010',\n",
       " '000001001000110',\n",
       " '000001001000111',\n",
       " '000001001000101',\n",
       " '000001001000100',\n",
       " '000001001001100',\n",
       " '000001001001101',\n",
       " '000001001001111',\n",
       " '000001001001110',\n",
       " '000001001001010',\n",
       " '000001001001011',\n",
       " '000001001001001',\n",
       " '000001001001000',\n",
       " '000001001011000',\n",
       " '000001001011001',\n",
       " '000001001011011',\n",
       " '000001001011010',\n",
       " '000001001011110',\n",
       " '000001001011111',\n",
       " '000001001011101',\n",
       " '000001001011100',\n",
       " '000001001010100',\n",
       " '000001001010101',\n",
       " '000001001010111',\n",
       " '000001001010110',\n",
       " '000001001010010',\n",
       " '000001001010011',\n",
       " '000001001010001',\n",
       " '000001001010000',\n",
       " '000001001110000',\n",
       " '000001001110001',\n",
       " '000001001110011',\n",
       " '000001001110010',\n",
       " '000001001110110',\n",
       " '000001001110111',\n",
       " '000001001110101',\n",
       " '000001001110100',\n",
       " '000001001111100',\n",
       " '000001001111101',\n",
       " '000001001111111',\n",
       " '000001001111110',\n",
       " '000001001111010',\n",
       " '000001001111011',\n",
       " '000001001111001',\n",
       " '000001001111000',\n",
       " '000001001101000',\n",
       " '000001001101001',\n",
       " '000001001101011',\n",
       " '000001001101010',\n",
       " '000001001101110',\n",
       " '000001001101111',\n",
       " '000001001101101',\n",
       " '000001001101100',\n",
       " '000001001100100',\n",
       " '000001001100101',\n",
       " '000001001100111',\n",
       " '000001001100110',\n",
       " '000001001100010',\n",
       " '000001001100011',\n",
       " '000001001100001',\n",
       " '000001001100000',\n",
       " '000001000100000',\n",
       " '000001000100001',\n",
       " '000001000100011',\n",
       " '000001000100010',\n",
       " '000001000100110',\n",
       " '000001000100111',\n",
       " '000001000100101',\n",
       " '000001000100100',\n",
       " '000001000101100',\n",
       " '000001000101101',\n",
       " '000001000101111',\n",
       " '000001000101110',\n",
       " '000001000101010',\n",
       " '000001000101011',\n",
       " '000001000101001',\n",
       " '000001000101000',\n",
       " '000001000111000',\n",
       " '000001000111001',\n",
       " '000001000111011',\n",
       " '000001000111010',\n",
       " '000001000111110',\n",
       " '000001000111111',\n",
       " '000001000111101',\n",
       " '000001000111100',\n",
       " '000001000110100',\n",
       " '000001000110101',\n",
       " '000001000110111',\n",
       " '000001000110110',\n",
       " '000001000110010',\n",
       " '000001000110011',\n",
       " '000001000110001',\n",
       " '000001000110000',\n",
       " '000001000010000',\n",
       " '000001000010001',\n",
       " '000001000010011',\n",
       " '000001000010010',\n",
       " '000001000010110',\n",
       " '000001000010111',\n",
       " '000001000010101',\n",
       " '000001000010100',\n",
       " ...]"
      ]
     },
     "execution_count": 25,
     "metadata": {},
     "output_type": "execute_result"
    }
   ],
   "source": [
    "list(a.generate_gray())"
   ]
  },
  {
   "cell_type": "code",
   "execution_count": 22,
   "id": "459fc16a",
   "metadata": {
    "scrolled": true
   },
   "outputs": [],
   "source": [
    "l = [1,2,3,4,5,6,7,8,9,10,11]\n",
    "combinations = list(itertools.combinations_with_replacement(l,11))"
   ]
  },
  {
   "cell_type": "code",
   "execution_count": 23,
   "id": "c030bb9e",
   "metadata": {},
   "outputs": [
    {
     "data": {
      "text/plain": [
       "352716"
      ]
     },
     "execution_count": 23,
     "metadata": {},
     "output_type": "execute_result"
    }
   ],
   "source": [
    "len(list(combinations))"
   ]
  },
  {
   "cell_type": "code",
   "execution_count": null,
   "id": "4502d278",
   "metadata": {},
   "outputs": [],
   "source": []
  }
 ],
 "metadata": {
  "kernelspec": {
   "display_name": "Python 3 (ipykernel)",
   "language": "python",
   "name": "python3"
  },
  "language_info": {
   "codemirror_mode": {
    "name": "ipython",
    "version": 3
   },
   "file_extension": ".py",
   "mimetype": "text/x-python",
   "name": "python",
   "nbconvert_exporter": "python",
   "pygments_lexer": "ipython3",
   "version": "3.9.13"
  }
 },
 "nbformat": 4,
 "nbformat_minor": 5
}
